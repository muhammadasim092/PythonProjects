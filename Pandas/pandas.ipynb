{
 "cells": [
  {
   "cell_type": "code",
   "execution_count": 6,
   "id": "94d5ee13",
   "metadata": {},
   "outputs": [],
   "source": [
    "fruits = pd.DataFrame([[30, 21]], columns=['Apples', 'Bananas'])\n"
   ]
  },
  {
   "cell_type": "code",
   "execution_count": 7,
   "id": "a75c0f1a",
   "metadata": {},
   "outputs": [
    {
     "data": {
      "text/html": [
       "<div>\n",
       "<style scoped>\n",
       "    .dataframe tbody tr th:only-of-type {\n",
       "        vertical-align: middle;\n",
       "    }\n",
       "\n",
       "    .dataframe tbody tr th {\n",
       "        vertical-align: top;\n",
       "    }\n",
       "\n",
       "    .dataframe thead th {\n",
       "        text-align: right;\n",
       "    }\n",
       "</style>\n",
       "<table border=\"1\" class=\"dataframe\">\n",
       "  <thead>\n",
       "    <tr style=\"text-align: right;\">\n",
       "      <th></th>\n",
       "      <th>Apples</th>\n",
       "      <th>Bananas</th>\n",
       "    </tr>\n",
       "  </thead>\n",
       "  <tbody>\n",
       "    <tr>\n",
       "      <th>0</th>\n",
       "      <td>30</td>\n",
       "      <td>21</td>\n",
       "    </tr>\n",
       "  </tbody>\n",
       "</table>\n",
       "</div>"
      ],
      "text/plain": [
       "   Apples  Bananas\n",
       "0      30       21"
      ]
     },
     "execution_count": 7,
     "metadata": {},
     "output_type": "execute_result"
    }
   ],
   "source": [
    "fruits"
   ]
  },
  {
   "cell_type": "code",
   "execution_count": 8,
   "id": "09173944",
   "metadata": {},
   "outputs": [],
   "source": [
    "fruit_sales = pd.DataFrame([[35, 21], [41, 34]], columns=['Apples', 'Bananas'],\n",
    "                index=['2017 Sales', '2018 Sales'])"
   ]
  },
  {
   "cell_type": "code",
   "execution_count": 9,
   "id": "f967049c",
   "metadata": {},
   "outputs": [
    {
     "data": {
      "text/html": [
       "<div>\n",
       "<style scoped>\n",
       "    .dataframe tbody tr th:only-of-type {\n",
       "        vertical-align: middle;\n",
       "    }\n",
       "\n",
       "    .dataframe tbody tr th {\n",
       "        vertical-align: top;\n",
       "    }\n",
       "\n",
       "    .dataframe thead th {\n",
       "        text-align: right;\n",
       "    }\n",
       "</style>\n",
       "<table border=\"1\" class=\"dataframe\">\n",
       "  <thead>\n",
       "    <tr style=\"text-align: right;\">\n",
       "      <th></th>\n",
       "      <th>Apples</th>\n",
       "      <th>Bananas</th>\n",
       "    </tr>\n",
       "  </thead>\n",
       "  <tbody>\n",
       "    <tr>\n",
       "      <th>2017 Sales</th>\n",
       "      <td>35</td>\n",
       "      <td>21</td>\n",
       "    </tr>\n",
       "    <tr>\n",
       "      <th>2018 Sales</th>\n",
       "      <td>41</td>\n",
       "      <td>34</td>\n",
       "    </tr>\n",
       "  </tbody>\n",
       "</table>\n",
       "</div>"
      ],
      "text/plain": [
       "            Apples  Bananas\n",
       "2017 Sales      35       21\n",
       "2018 Sales      41       34"
      ]
     },
     "execution_count": 9,
     "metadata": {},
     "output_type": "execute_result"
    }
   ],
   "source": [
    "fruit_sales"
   ]
  },
  {
   "cell_type": "code",
   "execution_count": 10,
   "id": "8a07cf66",
   "metadata": {},
   "outputs": [],
   "source": [
    "ingredients = pd.Series(\n",
    "    {\n",
    "        \"Flour\": \"4 cups\",\n",
    "        \"Milk\": \"1 cup\",\n",
    "        \"Eggs\": \"2 large\",\n",
    "        \"Spam\": \"1 can\"\n",
    "    },\n",
    "    name=\"Dinner\"\n",
    ")"
   ]
  },
  {
   "cell_type": "code",
   "execution_count": 11,
   "id": "229d4da3",
   "metadata": {},
   "outputs": [
    {
     "data": {
      "text/plain": [
       "Flour     4 cups\n",
       "Milk       1 cup\n",
       "Eggs     2 large\n",
       "Spam       1 can\n",
       "Name: Dinner, dtype: object"
      ]
     },
     "execution_count": 11,
     "metadata": {},
     "output_type": "execute_result"
    }
   ],
   "source": [
    "ingredients"
   ]
  },
  {
   "cell_type": "code",
   "execution_count": 14,
   "id": "37f071ba",
   "metadata": {},
   "outputs": [],
   "source": [
    "reviews = pd.read_csv('results.csv', index_col=0)\n"
   ]
  },
  {
   "cell_type": "code",
   "execution_count": 15,
   "id": "685ccdb8",
   "metadata": {},
   "outputs": [
    {
     "data": {
      "text/html": [
       "<div>\n",
       "<style scoped>\n",
       "    .dataframe tbody tr th:only-of-type {\n",
       "        vertical-align: middle;\n",
       "    }\n",
       "\n",
       "    .dataframe tbody tr th {\n",
       "        vertical-align: top;\n",
       "    }\n",
       "\n",
       "    .dataframe thead th {\n",
       "        text-align: right;\n",
       "    }\n",
       "</style>\n",
       "<table border=\"1\" class=\"dataframe\">\n",
       "  <thead>\n",
       "    <tr style=\"text-align: right;\">\n",
       "      <th></th>\n",
       "      <th>time</th>\n",
       "      <th>train/box_loss</th>\n",
       "      <th>train/cls_loss</th>\n",
       "      <th>train/dfl_loss</th>\n",
       "      <th>metrics/precision(B)</th>\n",
       "      <th>metrics/recall(B)</th>\n",
       "      <th>metrics/mAP50(B)</th>\n",
       "      <th>metrics/mAP50-95(B)</th>\n",
       "      <th>val/box_loss</th>\n",
       "      <th>val/cls_loss</th>\n",
       "      <th>val/dfl_loss</th>\n",
       "      <th>lr/pg0</th>\n",
       "      <th>lr/pg1</th>\n",
       "      <th>lr/pg2</th>\n",
       "    </tr>\n",
       "    <tr>\n",
       "      <th>epoch</th>\n",
       "      <th></th>\n",
       "      <th></th>\n",
       "      <th></th>\n",
       "      <th></th>\n",
       "      <th></th>\n",
       "      <th></th>\n",
       "      <th></th>\n",
       "      <th></th>\n",
       "      <th></th>\n",
       "      <th></th>\n",
       "      <th></th>\n",
       "      <th></th>\n",
       "      <th></th>\n",
       "      <th></th>\n",
       "    </tr>\n",
       "  </thead>\n",
       "  <tbody>\n",
       "    <tr>\n",
       "      <th>1</th>\n",
       "      <td>1377.12</td>\n",
       "      <td>0.92683</td>\n",
       "      <td>3.01268</td>\n",
       "      <td>1.29447</td>\n",
       "      <td>0.82979</td>\n",
       "      <td>0.20143</td>\n",
       "      <td>0.34406</td>\n",
       "      <td>0.23228</td>\n",
       "      <td>0.97668</td>\n",
       "      <td>3.84033</td>\n",
       "      <td>1.36804</td>\n",
       "      <td>0.000366</td>\n",
       "      <td>0.000366</td>\n",
       "      <td>0.000366</td>\n",
       "    </tr>\n",
       "    <tr>\n",
       "      <th>2</th>\n",
       "      <td>2691.81</td>\n",
       "      <td>0.98687</td>\n",
       "      <td>2.04577</td>\n",
       "      <td>1.31826</td>\n",
       "      <td>0.79823</td>\n",
       "      <td>0.43413</td>\n",
       "      <td>0.42313</td>\n",
       "      <td>0.28179</td>\n",
       "      <td>1.12759</td>\n",
       "      <td>2.92449</td>\n",
       "      <td>1.54880</td>\n",
       "      <td>0.000700</td>\n",
       "      <td>0.000700</td>\n",
       "      <td>0.000700</td>\n",
       "    </tr>\n",
       "    <tr>\n",
       "      <th>...</th>\n",
       "      <td>...</td>\n",
       "      <td>...</td>\n",
       "      <td>...</td>\n",
       "      <td>...</td>\n",
       "      <td>...</td>\n",
       "      <td>...</td>\n",
       "      <td>...</td>\n",
       "      <td>...</td>\n",
       "      <td>...</td>\n",
       "      <td>...</td>\n",
       "      <td>...</td>\n",
       "      <td>...</td>\n",
       "      <td>...</td>\n",
       "      <td>...</td>\n",
       "    </tr>\n",
       "    <tr>\n",
       "      <th>19</th>\n",
       "      <td>26816.30</td>\n",
       "      <td>0.59747</td>\n",
       "      <td>0.64801</td>\n",
       "      <td>1.06062</td>\n",
       "      <td>0.83849</td>\n",
       "      <td>0.62336</td>\n",
       "      <td>0.65009</td>\n",
       "      <td>0.50974</td>\n",
       "      <td>0.73186</td>\n",
       "      <td>0.79943</td>\n",
       "      <td>1.19158</td>\n",
       "      <td>0.000121</td>\n",
       "      <td>0.000121</td>\n",
       "      <td>0.000121</td>\n",
       "    </tr>\n",
       "    <tr>\n",
       "      <th>20</th>\n",
       "      <td>28089.60</td>\n",
       "      <td>0.57815</td>\n",
       "      <td>0.61103</td>\n",
       "      <td>1.05809</td>\n",
       "      <td>0.84200</td>\n",
       "      <td>0.60896</td>\n",
       "      <td>0.63785</td>\n",
       "      <td>0.50951</td>\n",
       "      <td>0.72767</td>\n",
       "      <td>0.81954</td>\n",
       "      <td>1.17724</td>\n",
       "      <td>0.000066</td>\n",
       "      <td>0.000066</td>\n",
       "      <td>0.000066</td>\n",
       "    </tr>\n",
       "  </tbody>\n",
       "</table>\n",
       "<p>20 rows × 14 columns</p>\n",
       "</div>"
      ],
      "text/plain": [
       "           time  train/box_loss  train/cls_loss  train/dfl_loss  \\\n",
       "epoch                                                             \n",
       "1       1377.12         0.92683         3.01268         1.29447   \n",
       "2       2691.81         0.98687         2.04577         1.31826   \n",
       "...         ...             ...             ...             ...   \n",
       "19     26816.30         0.59747         0.64801         1.06062   \n",
       "20     28089.60         0.57815         0.61103         1.05809   \n",
       "\n",
       "       metrics/precision(B)  metrics/recall(B)  metrics/mAP50(B)  \\\n",
       "epoch                                                              \n",
       "1                   0.82979            0.20143           0.34406   \n",
       "2                   0.79823            0.43413           0.42313   \n",
       "...                     ...                ...               ...   \n",
       "19                  0.83849            0.62336           0.65009   \n",
       "20                  0.84200            0.60896           0.63785   \n",
       "\n",
       "       metrics/mAP50-95(B)  val/box_loss  val/cls_loss  val/dfl_loss  \\\n",
       "epoch                                                                  \n",
       "1                  0.23228       0.97668       3.84033       1.36804   \n",
       "2                  0.28179       1.12759       2.92449       1.54880   \n",
       "...                    ...           ...           ...           ...   \n",
       "19                 0.50974       0.73186       0.79943       1.19158   \n",
       "20                 0.50951       0.72767       0.81954       1.17724   \n",
       "\n",
       "         lr/pg0    lr/pg1    lr/pg2  \n",
       "epoch                                \n",
       "1      0.000366  0.000366  0.000366  \n",
       "2      0.000700  0.000700  0.000700  \n",
       "...         ...       ...       ...  \n",
       "19     0.000121  0.000121  0.000121  \n",
       "20     0.000066  0.000066  0.000066  \n",
       "\n",
       "[20 rows x 14 columns]"
      ]
     },
     "execution_count": 15,
     "metadata": {},
     "output_type": "execute_result"
    }
   ],
   "source": [
    "reviews"
   ]
  },
  {
   "cell_type": "code",
   "execution_count": null,
   "id": "b06419a1",
   "metadata": {},
   "outputs": [],
   "source": []
  }
 ],
 "metadata": {
  "kernelspec": {
   "display_name": ".venv",
   "language": "python",
   "name": "python3"
  },
  "language_info": {
   "codemirror_mode": {
    "name": "ipython",
    "version": 3
   },
   "file_extension": ".py",
   "mimetype": "text/x-python",
   "name": "python",
   "nbconvert_exporter": "python",
   "pygments_lexer": "ipython3",
   "version": "3.13.3"
  }
 },
 "nbformat": 4,
 "nbformat_minor": 5
}
