{
 "cells": [
  {
   "cell_type": "code",
   "execution_count": 8,
   "id": "1f749c00",
   "metadata": {},
   "outputs": [
    {
     "name": "stdout",
     "output_type": "stream",
     "text": [
      "Defaulting to user installation because normal site-packages is not writeableNote: you may need to restart the kernel to use updated packages.\n",
      "\n",
      "Requirement already satisfied: pip in c:\\users\\muhammad asim\\appdata\\roaming\\python\\python310\\site-packages (25.1.1)\n",
      "Requirement already satisfied: setuptools in c:\\users\\muhammad asim\\appdata\\roaming\\python\\python310\\site-packages (80.9.0)\n",
      "Requirement already satisfied: wheel in c:\\users\\muhammad asim\\appdata\\roaming\\python\\python310\\site-packages (0.45.1)\n",
      "Defaulting to user installation because normal site-packages is not writeable\n",
      "Requirement already satisfied: sentence-transformers<3.0,>=2.2.2 in c:\\users\\muhammad asim\\appdata\\roaming\\python\\python310\\site-packages (2.7.0)\n",
      "Requirement already satisfied: langchain in c:\\users\\muhammad asim\\appdata\\roaming\\python\\python310\\site-packages (0.3.26)\n",
      "Requirement already satisfied: flask in c:\\users\\muhammad asim\\appdata\\roaming\\python\\python310\\site-packages (3.1.1)\n",
      "Requirement already satisfied: pypdf in c:\\users\\muhammad asim\\appdata\\roaming\\python\\python310\\site-packages (5.8.0)\n",
      "Requirement already satisfied: python-dotenv in c:\\users\\muhammad asim\\appdata\\roaming\\python\\python310\\site-packages (1.1.1)\n",
      "Requirement already satisfied: langchain-pinecone in c:\\users\\muhammad asim\\appdata\\roaming\\python\\python310\\site-packages (0.2.11)\n",
      "Requirement already satisfied: langchain-community in c:\\users\\muhammad asim\\appdata\\roaming\\python\\python310\\site-packages (0.3.27)\n",
      "Requirement already satisfied: langchain-openai in c:\\users\\muhammad asim\\appdata\\roaming\\python\\python310\\site-packages (0.3.28)\n",
      "Requirement already satisfied: langchain-experimental in c:\\users\\muhammad asim\\appdata\\roaming\\python\\python310\\site-packages (0.3.4)\n",
      "Requirement already satisfied: pinecone-client[grpc] in c:\\users\\muhammad asim\\appdata\\roaming\\python\\python310\\site-packages (6.0.0)\n",
      "Requirement already satisfied: transformers<5.0.0,>=4.34.0 in c:\\users\\muhammad asim\\appdata\\roaming\\python\\python310\\site-packages (from sentence-transformers<3.0,>=2.2.2) (4.53.3)\n",
      "Requirement already satisfied: tqdm in c:\\users\\muhammad asim\\appdata\\roaming\\python\\python310\\site-packages (from sentence-transformers<3.0,>=2.2.2) (4.67.1)\n",
      "Requirement already satisfied: torch>=1.11.0 in c:\\users\\muhammad asim\\appdata\\roaming\\python\\python310\\site-packages (from sentence-transformers<3.0,>=2.2.2) (2.7.1)\n",
      "Requirement already satisfied: numpy in c:\\users\\muhammad asim\\appdata\\roaming\\python\\python310\\site-packages (from sentence-transformers<3.0,>=2.2.2) (2.1.3)\n",
      "Requirement already satisfied: scikit-learn in c:\\users\\muhammad asim\\appdata\\roaming\\python\\python310\\site-packages (from sentence-transformers<3.0,>=2.2.2) (1.7.1)\n",
      "Requirement already satisfied: scipy in c:\\users\\muhammad asim\\appdata\\roaming\\python\\python310\\site-packages (from sentence-transformers<3.0,>=2.2.2) (1.15.3)\n",
      "Requirement already satisfied: huggingface-hub>=0.15.1 in c:\\users\\muhammad asim\\appdata\\roaming\\python\\python310\\site-packages (from sentence-transformers<3.0,>=2.2.2) (0.33.4)\n",
      "Requirement already satisfied: Pillow in c:\\users\\muhammad asim\\appdata\\roaming\\python\\python310\\site-packages (from sentence-transformers<3.0,>=2.2.2) (11.2.1)\n",
      "Requirement already satisfied: filelock in c:\\users\\muhammad asim\\appdata\\roaming\\python\\python310\\site-packages (from transformers<5.0.0,>=4.34.0->sentence-transformers<3.0,>=2.2.2) (3.18.0)\n",
      "Requirement already satisfied: packaging>=20.0 in c:\\users\\muhammad asim\\appdata\\roaming\\python\\python310\\site-packages (from transformers<5.0.0,>=4.34.0->sentence-transformers<3.0,>=2.2.2) (24.2)\n",
      "Requirement already satisfied: pyyaml>=5.1 in c:\\users\\muhammad asim\\appdata\\roaming\\python\\python310\\site-packages (from transformers<5.0.0,>=4.34.0->sentence-transformers<3.0,>=2.2.2) (6.0.2)\n",
      "Requirement already satisfied: regex!=2019.12.17 in c:\\users\\muhammad asim\\appdata\\roaming\\python\\python310\\site-packages (from transformers<5.0.0,>=4.34.0->sentence-transformers<3.0,>=2.2.2) (2024.11.6)\n",
      "Requirement already satisfied: requests in c:\\users\\muhammad asim\\appdata\\roaming\\python\\python310\\site-packages (from transformers<5.0.0,>=4.34.0->sentence-transformers<3.0,>=2.2.2) (2.32.4)\n",
      "Requirement already satisfied: tokenizers<0.22,>=0.21 in c:\\users\\muhammad asim\\appdata\\roaming\\python\\python310\\site-packages (from transformers<5.0.0,>=4.34.0->sentence-transformers<3.0,>=2.2.2) (0.21.2)\n",
      "Requirement already satisfied: safetensors>=0.4.3 in c:\\users\\muhammad asim\\appdata\\roaming\\python\\python310\\site-packages (from transformers<5.0.0,>=4.34.0->sentence-transformers<3.0,>=2.2.2) (0.5.3)\n",
      "Requirement already satisfied: fsspec>=2023.5.0 in c:\\users\\muhammad asim\\appdata\\roaming\\python\\python310\\site-packages (from huggingface-hub>=0.15.1->sentence-transformers<3.0,>=2.2.2) (2025.7.0)\n",
      "Requirement already satisfied: typing-extensions>=3.7.4.3 in c:\\users\\muhammad asim\\appdata\\roaming\\python\\python310\\site-packages (from huggingface-hub>=0.15.1->sentence-transformers<3.0,>=2.2.2) (4.14.0)\n",
      "Requirement already satisfied: langchain-core<1.0.0,>=0.3.66 in c:\\users\\muhammad asim\\appdata\\roaming\\python\\python310\\site-packages (from langchain) (0.3.72)\n",
      "Requirement already satisfied: langchain-text-splitters<1.0.0,>=0.3.8 in c:\\users\\muhammad asim\\appdata\\roaming\\python\\python310\\site-packages (from langchain) (0.3.8)\n",
      "Requirement already satisfied: langsmith>=0.1.17 in c:\\users\\muhammad asim\\appdata\\roaming\\python\\python310\\site-packages (from langchain) (0.4.8)\n",
      "Requirement already satisfied: pydantic<3.0.0,>=2.7.4 in c:\\users\\muhammad asim\\appdata\\roaming\\python\\python310\\site-packages (from langchain) (2.11.7)\n",
      "Requirement already satisfied: SQLAlchemy<3,>=1.4 in c:\\users\\muhammad asim\\appdata\\roaming\\python\\python310\\site-packages (from langchain) (2.0.41)\n",
      "Requirement already satisfied: async-timeout<5.0.0,>=4.0.0 in c:\\users\\muhammad asim\\appdata\\roaming\\python\\python310\\site-packages (from langchain) (4.0.3)\n",
      "Requirement already satisfied: tenacity!=8.4.0,<10.0.0,>=8.1.0 in c:\\users\\muhammad asim\\appdata\\roaming\\python\\python310\\site-packages (from langchain-core<1.0.0,>=0.3.66->langchain) (9.1.2)\n",
      "Requirement already satisfied: jsonpatch<2.0,>=1.33 in c:\\users\\muhammad asim\\appdata\\roaming\\python\\python310\\site-packages (from langchain-core<1.0.0,>=0.3.66->langchain) (1.33)\n",
      "Requirement already satisfied: jsonpointer>=1.9 in c:\\users\\muhammad asim\\appdata\\roaming\\python\\python310\\site-packages (from jsonpatch<2.0,>=1.33->langchain-core<1.0.0,>=0.3.66->langchain) (3.0.0)\n",
      "Requirement already satisfied: annotated-types>=0.6.0 in c:\\users\\muhammad asim\\appdata\\roaming\\python\\python310\\site-packages (from pydantic<3.0.0,>=2.7.4->langchain) (0.7.0)\n",
      "Requirement already satisfied: pydantic-core==2.33.2 in c:\\users\\muhammad asim\\appdata\\roaming\\python\\python310\\site-packages (from pydantic<3.0.0,>=2.7.4->langchain) (2.33.2)\n",
      "Requirement already satisfied: typing-inspection>=0.4.0 in c:\\users\\muhammad asim\\appdata\\roaming\\python\\python310\\site-packages (from pydantic<3.0.0,>=2.7.4->langchain) (0.4.1)\n",
      "Requirement already satisfied: charset_normalizer<4,>=2 in c:\\users\\muhammad asim\\appdata\\roaming\\python\\python310\\site-packages (from requests->transformers<5.0.0,>=4.34.0->sentence-transformers<3.0,>=2.2.2) (3.4.2)\n",
      "Requirement already satisfied: idna<4,>=2.5 in c:\\users\\muhammad asim\\appdata\\roaming\\python\\python310\\site-packages (from requests->transformers<5.0.0,>=4.34.0->sentence-transformers<3.0,>=2.2.2) (3.10)\n",
      "Requirement already satisfied: urllib3<3,>=1.21.1 in c:\\users\\muhammad asim\\appdata\\roaming\\python\\python310\\site-packages (from requests->transformers<5.0.0,>=4.34.0->sentence-transformers<3.0,>=2.2.2) (2.5.0)\n",
      "Requirement already satisfied: certifi>=2017.4.17 in c:\\users\\muhammad asim\\appdata\\roaming\\python\\python310\\site-packages (from requests->transformers<5.0.0,>=4.34.0->sentence-transformers<3.0,>=2.2.2) (2025.6.15)\n",
      "Requirement already satisfied: greenlet>=1 in c:\\users\\muhammad asim\\appdata\\roaming\\python\\python310\\site-packages (from SQLAlchemy<3,>=1.4->langchain) (3.2.3)\n",
      "Requirement already satisfied: blinker>=1.9.0 in c:\\users\\muhammad asim\\appdata\\roaming\\python\\python310\\site-packages (from flask) (1.9.0)\n",
      "Requirement already satisfied: click>=8.1.3 in c:\\users\\muhammad asim\\appdata\\roaming\\python\\python310\\site-packages (from flask) (8.2.1)\n",
      "Requirement already satisfied: itsdangerous>=2.2.0 in c:\\users\\muhammad asim\\appdata\\roaming\\python\\python310\\site-packages (from flask) (2.2.0)\n",
      "Requirement already satisfied: jinja2>=3.1.2 in c:\\users\\muhammad asim\\appdata\\roaming\\python\\python310\\site-packages (from flask) (3.1.6)\n",
      "Requirement already satisfied: markupsafe>=2.1.1 in c:\\users\\muhammad asim\\appdata\\roaming\\python\\python310\\site-packages (from flask) (3.0.2)\n",
      "Requirement already satisfied: werkzeug>=3.1.0 in c:\\users\\muhammad asim\\appdata\\roaming\\python\\python310\\site-packages (from flask) (3.1.3)\n",
      "Requirement already satisfied: pinecone-plugin-interface<0.0.8,>=0.0.7 in c:\\users\\muhammad asim\\appdata\\roaming\\python\\python310\\site-packages (from pinecone-client[grpc]) (0.0.7)\n",
      "Requirement already satisfied: python-dateutil>=2.5.3 in c:\\users\\muhammad asim\\appdata\\roaming\\python\\python310\\site-packages (from pinecone-client[grpc]) (2.9.0.post0)\n",
      "Requirement already satisfied: googleapis-common-protos>=1.66.0 in c:\\users\\muhammad asim\\appdata\\roaming\\python\\python310\\site-packages (from pinecone-client[grpc]) (1.70.0)\n",
      "Requirement already satisfied: grpcio>=1.44.0 in c:\\users\\muhammad asim\\appdata\\roaming\\python\\python310\\site-packages (from pinecone-client[grpc]) (1.73.1)\n",
      "Requirement already satisfied: lz4>=3.1.3 in c:\\users\\muhammad asim\\appdata\\roaming\\python\\python310\\site-packages (from pinecone-client[grpc]) (4.4.4)\n",
      "Requirement already satisfied: protobuf<6.0,>=5.29 in c:\\users\\muhammad asim\\appdata\\roaming\\python\\python310\\site-packages (from pinecone-client[grpc]) (5.29.5)\n",
      "Requirement already satisfied: protoc-gen-openapiv2<0.0.2,>=0.0.1 in c:\\users\\muhammad asim\\appdata\\roaming\\python\\python310\\site-packages (from pinecone-client[grpc]) (0.0.1)\n",
      "Requirement already satisfied: pinecone<8.0.0,>=6.0.0 in c:\\users\\muhammad asim\\appdata\\roaming\\python\\python310\\site-packages (from pinecone[asyncio]<8.0.0,>=6.0.0->langchain-pinecone) (7.3.0)\n",
      "Requirement already satisfied: langchain-tests<1.0.0,>=0.3.7 in c:\\users\\muhammad asim\\appdata\\roaming\\python\\python310\\site-packages (from langchain-pinecone) (0.3.20)\n",
      "Requirement already satisfied: pytest<9,>=7 in c:\\users\\muhammad asim\\appdata\\roaming\\python\\python310\\site-packages (from langchain-tests<1.0.0,>=0.3.7->langchain-pinecone) (8.4.1)\n",
      "Requirement already satisfied: pytest-asyncio<1,>=0.20 in c:\\users\\muhammad asim\\appdata\\roaming\\python\\python310\\site-packages (from langchain-tests<1.0.0,>=0.3.7->langchain-pinecone) (0.26.0)\n",
      "Requirement already satisfied: httpx<1,>=0.25.0 in c:\\users\\muhammad asim\\appdata\\roaming\\python\\python310\\site-packages (from langchain-tests<1.0.0,>=0.3.7->langchain-pinecone) (0.28.1)\n",
      "Requirement already satisfied: syrupy<5,>=4 in c:\\users\\muhammad asim\\appdata\\roaming\\python\\python310\\site-packages (from langchain-tests<1.0.0,>=0.3.7->langchain-pinecone) (4.9.1)\n",
      "Requirement already satisfied: pytest-socket<1,>=0.6.0 in c:\\users\\muhammad asim\\appdata\\roaming\\python\\python310\\site-packages (from langchain-tests<1.0.0,>=0.3.7->langchain-pinecone) (0.7.0)\n",
      "Requirement already satisfied: pytest-benchmark in c:\\users\\muhammad asim\\appdata\\roaming\\python\\python310\\site-packages (from langchain-tests<1.0.0,>=0.3.7->langchain-pinecone) (5.1.0)\n",
      "Requirement already satisfied: pytest-codspeed in c:\\users\\muhammad asim\\appdata\\roaming\\python\\python310\\site-packages (from langchain-tests<1.0.0,>=0.3.7->langchain-pinecone) (4.0.0)\n",
      "Requirement already satisfied: pytest-recording in c:\\users\\muhammad asim\\appdata\\roaming\\python\\python310\\site-packages (from langchain-tests<1.0.0,>=0.3.7->langchain-pinecone) (0.13.4)\n",
      "Requirement already satisfied: vcrpy>=7.0 in c:\\users\\muhammad asim\\appdata\\roaming\\python\\python310\\site-packages (from langchain-tests<1.0.0,>=0.3.7->langchain-pinecone) (7.0.0)\n",
      "Requirement already satisfied: anyio in c:\\users\\muhammad asim\\appdata\\roaming\\python\\python310\\site-packages (from httpx<1,>=0.25.0->langchain-tests<1.0.0,>=0.3.7->langchain-pinecone) (4.9.0)\n",
      "Requirement already satisfied: httpcore==1.* in c:\\users\\muhammad asim\\appdata\\roaming\\python\\python310\\site-packages (from httpx<1,>=0.25.0->langchain-tests<1.0.0,>=0.3.7->langchain-pinecone) (1.0.9)\n",
      "Requirement already satisfied: h11>=0.16 in c:\\users\\muhammad asim\\appdata\\roaming\\python\\python310\\site-packages (from httpcore==1.*->httpx<1,>=0.25.0->langchain-tests<1.0.0,>=0.3.7->langchain-pinecone) (0.16.0)\n",
      "Requirement already satisfied: pinecone-plugin-assistant<2.0.0,>=1.6.0 in c:\\users\\muhammad asim\\appdata\\roaming\\python\\python310\\site-packages (from pinecone<8.0.0,>=6.0.0->pinecone[asyncio]<8.0.0,>=6.0.0->langchain-pinecone) (1.7.0)\n",
      "Requirement already satisfied: aiohttp>=3.9.0 in c:\\users\\muhammad asim\\appdata\\roaming\\python\\python310\\site-packages (from pinecone[asyncio]<8.0.0,>=6.0.0->langchain-pinecone) (3.12.14)\n",
      "Requirement already satisfied: aiohttp-retry<3.0.0,>=2.9.1 in c:\\users\\muhammad asim\\appdata\\roaming\\python\\python310\\site-packages (from pinecone[asyncio]<8.0.0,>=6.0.0->langchain-pinecone) (2.9.1)\n",
      "Requirement already satisfied: colorama>=0.4 in c:\\users\\muhammad asim\\appdata\\roaming\\python\\python310\\site-packages (from pytest<9,>=7->langchain-tests<1.0.0,>=0.3.7->langchain-pinecone) (0.4.6)\n",
      "Requirement already satisfied: exceptiongroup>=1 in c:\\users\\muhammad asim\\appdata\\roaming\\python\\python310\\site-packages (from pytest<9,>=7->langchain-tests<1.0.0,>=0.3.7->langchain-pinecone) (1.3.0)\n",
      "Requirement already satisfied: iniconfig>=1 in c:\\users\\muhammad asim\\appdata\\roaming\\python\\python310\\site-packages (from pytest<9,>=7->langchain-tests<1.0.0,>=0.3.7->langchain-pinecone) (2.1.0)\n",
      "Requirement already satisfied: pluggy<2,>=1.5 in c:\\users\\muhammad asim\\appdata\\roaming\\python\\python310\\site-packages (from pytest<9,>=7->langchain-tests<1.0.0,>=0.3.7->langchain-pinecone) (1.6.0)\n",
      "Requirement already satisfied: pygments>=2.7.2 in c:\\users\\muhammad asim\\appdata\\roaming\\python\\python310\\site-packages (from pytest<9,>=7->langchain-tests<1.0.0,>=0.3.7->langchain-pinecone) (2.19.2)\n",
      "Requirement already satisfied: tomli>=1 in c:\\users\\muhammad asim\\appdata\\roaming\\python\\python310\\site-packages (from pytest<9,>=7->langchain-tests<1.0.0,>=0.3.7->langchain-pinecone) (2.2.1)\n",
      "Requirement already satisfied: dataclasses-json<0.7,>=0.5.7 in c:\\users\\muhammad asim\\appdata\\roaming\\python\\python310\\site-packages (from langchain-community) (0.6.7)\n",
      "Requirement already satisfied: pydantic-settings<3.0.0,>=2.4.0 in c:\\users\\muhammad asim\\appdata\\roaming\\python\\python310\\site-packages (from langchain-community) (2.10.1)\n",
      "Requirement already satisfied: httpx-sse<1.0.0,>=0.4.0 in c:\\users\\muhammad asim\\appdata\\roaming\\python\\python310\\site-packages (from langchain-community) (0.4.1)\n",
      "Requirement already satisfied: aiohappyeyeballs>=2.5.0 in c:\\users\\muhammad asim\\appdata\\roaming\\python\\python310\\site-packages (from aiohttp>=3.9.0->pinecone[asyncio]<8.0.0,>=6.0.0->langchain-pinecone) (2.6.1)\n",
      "Requirement already satisfied: aiosignal>=1.4.0 in c:\\users\\muhammad asim\\appdata\\roaming\\python\\python310\\site-packages (from aiohttp>=3.9.0->pinecone[asyncio]<8.0.0,>=6.0.0->langchain-pinecone) (1.4.0)\n",
      "Requirement already satisfied: attrs>=17.3.0 in c:\\users\\muhammad asim\\appdata\\roaming\\python\\python310\\site-packages (from aiohttp>=3.9.0->pinecone[asyncio]<8.0.0,>=6.0.0->langchain-pinecone) (25.3.0)\n",
      "Requirement already satisfied: frozenlist>=1.1.1 in c:\\users\\muhammad asim\\appdata\\roaming\\python\\python310\\site-packages (from aiohttp>=3.9.0->pinecone[asyncio]<8.0.0,>=6.0.0->langchain-pinecone) (1.7.0)\n",
      "Requirement already satisfied: multidict<7.0,>=4.5 in c:\\users\\muhammad asim\\appdata\\roaming\\python\\python310\\site-packages (from aiohttp>=3.9.0->pinecone[asyncio]<8.0.0,>=6.0.0->langchain-pinecone) (6.6.3)\n",
      "Requirement already satisfied: propcache>=0.2.0 in c:\\users\\muhammad asim\\appdata\\roaming\\python\\python310\\site-packages (from aiohttp>=3.9.0->pinecone[asyncio]<8.0.0,>=6.0.0->langchain-pinecone) (0.3.2)\n",
      "Requirement already satisfied: yarl<2.0,>=1.17.0 in c:\\users\\muhammad asim\\appdata\\roaming\\python\\python310\\site-packages (from aiohttp>=3.9.0->pinecone[asyncio]<8.0.0,>=6.0.0->langchain-pinecone) (1.20.1)\n",
      "Requirement already satisfied: marshmallow<4.0.0,>=3.18.0 in c:\\users\\muhammad asim\\appdata\\roaming\\python\\python310\\site-packages (from dataclasses-json<0.7,>=0.5.7->langchain-community) (3.26.1)\n",
      "Requirement already satisfied: typing-inspect<1,>=0.4.0 in c:\\users\\muhammad asim\\appdata\\roaming\\python\\python310\\site-packages (from dataclasses-json<0.7,>=0.5.7->langchain-community) (0.9.0)\n",
      "Requirement already satisfied: mypy-extensions>=0.3.0 in c:\\users\\muhammad asim\\appdata\\roaming\\python\\python310\\site-packages (from typing-inspect<1,>=0.4.0->dataclasses-json<0.7,>=0.5.7->langchain-community) (1.1.0)\n",
      "Requirement already satisfied: openai<2.0.0,>=1.86.0 in c:\\users\\muhammad asim\\appdata\\roaming\\python\\python310\\site-packages (from langchain-openai) (1.97.1)\n",
      "Requirement already satisfied: tiktoken<1,>=0.7 in c:\\users\\muhammad asim\\appdata\\roaming\\python\\python310\\site-packages (from langchain-openai) (0.9.0)\n",
      "Requirement already satisfied: distro<2,>=1.7.0 in c:\\users\\muhammad asim\\appdata\\roaming\\python\\python310\\site-packages (from openai<2.0.0,>=1.86.0->langchain-openai) (1.9.0)\n",
      "Requirement already satisfied: jiter<1,>=0.4.0 in c:\\users\\muhammad asim\\appdata\\roaming\\python\\python310\\site-packages (from openai<2.0.0,>=1.86.0->langchain-openai) (0.10.0)\n",
      "Requirement already satisfied: sniffio in c:\\users\\muhammad asim\\appdata\\roaming\\python\\python310\\site-packages (from openai<2.0.0,>=1.86.0->langchain-openai) (1.3.1)\n",
      "Requirement already satisfied: orjson<4.0.0,>=3.9.14 in c:\\users\\muhammad asim\\appdata\\roaming\\python\\python310\\site-packages (from langsmith>=0.1.17->langchain) (3.11.0)\n",
      "Requirement already satisfied: requests-toolbelt<2.0.0,>=1.0.0 in c:\\users\\muhammad asim\\appdata\\roaming\\python\\python310\\site-packages (from langsmith>=0.1.17->langchain) (1.0.0)\n",
      "Requirement already satisfied: zstandard<0.24.0,>=0.23.0 in c:\\users\\muhammad asim\\appdata\\roaming\\python\\python310\\site-packages (from langsmith>=0.1.17->langchain) (0.23.0)\n",
      "Requirement already satisfied: six>=1.5 in c:\\users\\muhammad asim\\appdata\\roaming\\python\\python310\\site-packages (from python-dateutil>=2.5.3->pinecone-client[grpc]) (1.17.0)\n",
      "Requirement already satisfied: sympy>=1.13.3 in c:\\users\\muhammad asim\\appdata\\roaming\\python\\python310\\site-packages (from torch>=1.11.0->sentence-transformers<3.0,>=2.2.2) (1.14.0)\n",
      "Requirement already satisfied: networkx in c:\\users\\muhammad asim\\appdata\\roaming\\python\\python310\\site-packages (from torch>=1.11.0->sentence-transformers<3.0,>=2.2.2) (3.4.2)\n",
      "Requirement already satisfied: mpmath<1.4,>=1.1.0 in c:\\users\\muhammad asim\\appdata\\roaming\\python\\python310\\site-packages (from sympy>=1.13.3->torch>=1.11.0->sentence-transformers<3.0,>=2.2.2) (1.3.0)\n",
      "Requirement already satisfied: wrapt in c:\\users\\muhammad asim\\appdata\\roaming\\python\\python310\\site-packages (from vcrpy>=7.0->langchain-tests<1.0.0,>=0.3.7->langchain-pinecone) (1.17.2)\n",
      "Requirement already satisfied: py-cpuinfo in c:\\users\\muhammad asim\\appdata\\roaming\\python\\python310\\site-packages (from pytest-benchmark->langchain-tests<1.0.0,>=0.3.7->langchain-pinecone) (9.0.0)\n",
      "Requirement already satisfied: cffi>=1.17.1 in c:\\users\\muhammad asim\\appdata\\roaming\\python\\python310\\site-packages (from pytest-codspeed->langchain-tests<1.0.0,>=0.3.7->langchain-pinecone) (1.17.1)\n",
      "Requirement already satisfied: rich>=13.8.1 in c:\\users\\muhammad asim\\appdata\\roaming\\python\\python310\\site-packages (from pytest-codspeed->langchain-tests<1.0.0,>=0.3.7->langchain-pinecone) (14.0.0)\n",
      "Requirement already satisfied: pycparser in c:\\users\\muhammad asim\\appdata\\roaming\\python\\python310\\site-packages (from cffi>=1.17.1->pytest-codspeed->langchain-tests<1.0.0,>=0.3.7->langchain-pinecone) (2.22)\n",
      "Requirement already satisfied: markdown-it-py>=2.2.0 in c:\\users\\muhammad asim\\appdata\\roaming\\python\\python310\\site-packages (from rich>=13.8.1->pytest-codspeed->langchain-tests<1.0.0,>=0.3.7->langchain-pinecone) (3.0.0)\n",
      "Requirement already satisfied: mdurl~=0.1 in c:\\users\\muhammad asim\\appdata\\roaming\\python\\python310\\site-packages (from markdown-it-py>=2.2.0->rich>=13.8.1->pytest-codspeed->langchain-tests<1.0.0,>=0.3.7->langchain-pinecone) (0.1.2)\n",
      "Requirement already satisfied: joblib>=1.2.0 in c:\\users\\muhammad asim\\appdata\\roaming\\python\\python310\\site-packages (from scikit-learn->sentence-transformers<3.0,>=2.2.2) (1.5.1)\n",
      "Requirement already satisfied: threadpoolctl>=3.1.0 in c:\\users\\muhammad asim\\appdata\\roaming\\python\\python310\\site-packages (from scikit-learn->sentence-transformers<3.0,>=2.2.2) (3.6.0)\n",
      "Note: you may need to restart the kernel to use updated packages.\n"
     ]
    }
   ],
   "source": [
    "# ✅ Step 1: Upgrade pip, setuptools, and wheel first (important!)\n",
    "%pip install --upgrade pip setuptools wheel\n",
    "\n",
    "# ✅ Step 2: Install all required libraries (with fixed package names)\n",
    "%pip install \\\n",
    "    \"sentence-transformers>=2.2.2,<3.0\" \\\n",
    "    langchain \\\n",
    "    flask \\\n",
    "    pypdf \\\n",
    "    python-dotenv \\\n",
    "    \"pinecone-client[grpc]\" \\\n",
    "    langchain-pinecone \\\n",
    "    langchain-community \\\n",
    "    langchain-openai \\\n",
    "    langchain-experimental\n"
   ]
  },
  {
   "cell_type": "code",
   "execution_count": 9,
   "id": "823a6446",
   "metadata": {},
   "outputs": [
    {
     "name": "stdout",
     "output_type": "stream",
     "text": [
      "Defaulting to user installation because normal site-packages is not writeable\n",
      "Requirement already satisfied: pymupdf in c:\\users\\muhammad asim\\appdata\\roaming\\python\\python310\\site-packages (1.26.3)\n",
      "Note: you may need to restart the kernel to use updated packages.\n"
     ]
    }
   ],
   "source": [
    "%pip install pymupdf"
   ]
  },
  {
   "cell_type": "code",
   "execution_count": 28,
   "id": "4469d6c7",
   "metadata": {},
   "outputs": [
    {
     "data": {
      "text/plain": [
       "'d:\\\\Introduction to Programming with Python\\\\PythonProjects'"
      ]
     },
     "execution_count": 28,
     "metadata": {},
     "output_type": "execute_result"
    }
   ],
   "source": [
    "%pwd"
   ]
  },
  {
   "cell_type": "code",
   "execution_count": null,
   "id": "ffaeb2d5",
   "metadata": {},
   "outputs": [],
   "source": [
    "import os \n",
    "os.chdir(\"../\")\n"
   ]
  },
  {
   "cell_type": "code",
   "execution_count": 29,
   "id": "9a80268f",
   "metadata": {},
   "outputs": [
    {
     "data": {
      "text/plain": [
       "'d:\\\\Introduction to Programming with Python\\\\PythonProjects'"
      ]
     },
     "execution_count": 29,
     "metadata": {},
     "output_type": "execute_result"
    }
   ],
   "source": [
    "%pwd"
   ]
  },
  {
   "cell_type": "code",
   "execution_count": 30,
   "id": "44b91b87",
   "metadata": {},
   "outputs": [
    {
     "name": "stdout",
     "output_type": "stream",
     "text": [
      "D:\\Introduction to Programming with Python\\PythonProjects\\Medical chat Bot\n"
     ]
    },
    {
     "name": "stderr",
     "output_type": "stream",
     "text": [
      "C:\\Users\\Muhammad Asim\\AppData\\Roaming\\Python\\Python310\\site-packages\\IPython\\core\\magics\\osm.py:417: UserWarning: This is now an optional IPython functionality, setting dhist requires you to install the `pickleshare` library.\n",
      "  self.shell.db['dhist'] = compress_dhist(dhist)[-100:]\n"
     ]
    }
   ],
   "source": [
    "%cd \"D:/Introduction to Programming with Python/PythonProjects/Medical chat Bot\"\n"
   ]
  },
  {
   "cell_type": "code",
   "execution_count": 31,
   "id": "c6fd3947",
   "metadata": {},
   "outputs": [
    {
     "data": {
      "text/plain": [
       "'D:\\\\Introduction to Programming with Python\\\\PythonProjects\\\\Medical chat Bot'"
      ]
     },
     "execution_count": 31,
     "metadata": {},
     "output_type": "execute_result"
    }
   ],
   "source": [
    "%pwd\n"
   ]
  },
  {
   "cell_type": "code",
   "execution_count": 32,
   "id": "f46b6e89",
   "metadata": {},
   "outputs": [],
   "source": [
    "from langchain.document_loaders import PyMuPDFLoader, DirectoryLoader\n",
    "from langchain.text_splitter import RecursiveCharacterTextSplitter"
   ]
  },
  {
   "cell_type": "code",
   "execution_count": 33,
   "id": "ac3e75bf",
   "metadata": {},
   "outputs": [],
   "source": [
    "def load_pdf(data):\n",
    "    loader = DirectoryLoader(data,\n",
    "                             glob=\"*.pdf\",\n",
    "                             loader_cls=PyMuPDFLoader\n",
    "                             )\n",
    "    document = loader.load()\n",
    "    return document"
   ]
  },
  {
   "cell_type": "code",
   "execution_count": 34,
   "id": "a17b0631",
   "metadata": {},
   "outputs": [
    {
     "data": {
      "text/plain": [
       "'D:\\\\Introduction to Programming with Python\\\\PythonProjects\\\\Medical chat Bot'"
      ]
     },
     "execution_count": 34,
     "metadata": {},
     "output_type": "execute_result"
    }
   ],
   "source": [
    "%pwd"
   ]
  },
  {
   "cell_type": "code",
   "execution_count": 35,
   "id": "21d7a068",
   "metadata": {},
   "outputs": [],
   "source": [
    "extracted_data = load_pdf(data='Data/')"
   ]
  },
  {
   "cell_type": "code",
   "execution_count": 11,
   "id": "db944f62",
   "metadata": {},
   "outputs": [],
   "source": [
    "# extracted_data"
   ]
  },
  {
   "cell_type": "code",
   "execution_count": 36,
   "id": "d0832453",
   "metadata": {},
   "outputs": [],
   "source": [
    "def text_split(extracted_data):\n",
    "    text_splitter = RecursiveCharacterTextSplitter(chunk_size = 500, chunk_overlap = 20)\n",
    "    text_chunks = text_splitter.split_documents(extracted_data)\n",
    "    return text_chunks"
   ]
  },
  {
   "cell_type": "code",
   "execution_count": 37,
   "id": "1936c95f",
   "metadata": {},
   "outputs": [
    {
     "name": "stdout",
     "output_type": "stream",
     "text": [
      "Length of Text chunks 5777\n"
     ]
    }
   ],
   "source": [
    "text_chunks = text_split(extracted_data)\n",
    "print(\"Length of Text chunks\", len(text_chunks))"
   ]
  },
  {
   "cell_type": "code",
   "execution_count": 12,
   "id": "c01ff034",
   "metadata": {},
   "outputs": [],
   "source": [
    "# text_chunks"
   ]
  },
  {
   "cell_type": "code",
   "execution_count": 38,
   "id": "5851e67d",
   "metadata": {},
   "outputs": [],
   "source": [
    "from langchain.embeddings import HuggingFaceEmbeddings"
   ]
  },
  {
   "cell_type": "code",
   "execution_count": 39,
   "id": "7ef499e2",
   "metadata": {},
   "outputs": [],
   "source": [
    "def download_hugging_face_embeddings():\n",
    "    # Download the Hugging Face Embeddings\n",
    "    emdeddings = HuggingFaceEmbeddings(model_name = 'sentence-transformers/all-MiniLM-L6-v2')\n",
    "    return emdeddings"
   ]
  },
  {
   "cell_type": "code",
   "execution_count": 40,
   "id": "2e5642f6",
   "metadata": {},
   "outputs": [
    {
     "name": "stderr",
     "output_type": "stream",
     "text": [
      "C:\\Users\\Muhammad Asim\\AppData\\Local\\Temp\\ipykernel_3484\\2436550048.py:3: LangChainDeprecationWarning: The class `HuggingFaceEmbeddings` was deprecated in LangChain 0.2.2 and will be removed in 1.0. An updated version of the class exists in the :class:`~langchain-huggingface package and should be used instead. To use it run `pip install -U :class:`~langchain-huggingface` and import as `from :class:`~langchain_huggingface import HuggingFaceEmbeddings``.\n",
      "  emdeddings = HuggingFaceEmbeddings(model_name = 'sentence-transformers/all-MiniLM-L6-v2')\n"
     ]
    }
   ],
   "source": [
    "embeddings = download_hugging_face_embeddings()"
   ]
  },
  {
   "cell_type": "code",
   "execution_count": 41,
   "id": "c1dc5563",
   "metadata": {},
   "outputs": [
    {
     "name": "stdout",
     "output_type": "stream",
     "text": [
      "legth 384\n"
     ]
    }
   ],
   "source": [
    "query_result = embeddings.embed_query(\"Hello World\")\n",
    "print(\"legth\" , len(query_result))"
   ]
  },
  {
   "cell_type": "code",
   "execution_count": 17,
   "id": "ffcc0887",
   "metadata": {},
   "outputs": [],
   "source": [
    "# query_result"
   ]
  },
  {
   "cell_type": "code",
   "execution_count": 42,
   "id": "4162319a",
   "metadata": {},
   "outputs": [
    {
     "data": {
      "text/plain": [
       "True"
      ]
     },
     "execution_count": 42,
     "metadata": {},
     "output_type": "execute_result"
    }
   ],
   "source": [
    "from dotenv import load_dotenv\n",
    "load_dotenv()"
   ]
  },
  {
   "cell_type": "code",
   "execution_count": 43,
   "id": "4f793347",
   "metadata": {},
   "outputs": [],
   "source": [
    "import os\n",
    "\n",
    "PINECONE_API_KEY = \"pcsk_tcVhe_UNxCvkWUa1d5fTpKNjqp5aq7FtRC62y44Ek3Rs53wJxN2WeborV6PaSm8vVd44S\"\n",
    "PINECONE_ENVIRONMENT = \"us-east-1\"\n",
    "\n",
    "os.environ[\"PINECONE_API_KEY\"] = PINECONE_API_KEY\n",
    "os.environ[\"PINECONE_ENVIRONMENT\"] = PINECONE_ENVIRONMENT\n"
   ]
  },
  {
   "cell_type": "code",
   "execution_count": 20,
   "id": "8dd5eb8f",
   "metadata": {},
   "outputs": [],
   "source": [
    "# PINE_CONE_API_KEY = os.environ.get('PINE_CONE_API_KEY')"
   ]
  },
  {
   "cell_type": "code",
   "execution_count": 21,
   "id": "bf719f54",
   "metadata": {},
   "outputs": [],
   "source": [
    "# PINE_CONE_API_KEY"
   ]
  },
  {
   "cell_type": "code",
   "execution_count": 22,
   "id": "20e3e946",
   "metadata": {},
   "outputs": [],
   "source": [
    "# from pinecone.grpc import PineconeGRPC as pinecone\n",
    "# from pinecone import ServerlessSpec\n",
    "\n",
    "# pc = pinecone(api_key= PINE_CONE_API_KEY)\n",
    "# index_name = \"medicalchatbot\"\n",
    "\n",
    "# pc.create_index(\n",
    "#     name= index_name,\n",
    "#     dimension= 384,\n",
    "#     metric=\"cosine\",\n",
    "#     spec=ServerlessSpec(\n",
    "#         cloud=\"aws\",\n",
    "#         region=\"us-east-1\"\n",
    "#     )\n",
    "# )"
   ]
  },
  {
   "cell_type": "code",
   "execution_count": 44,
   "id": "22eaf96b",
   "metadata": {},
   "outputs": [],
   "source": [
    "from pinecone.grpc import PineconeGRPC as pinecone\n",
    "from pinecone import ServerlessSpec\n",
    "\n",
    "pc = pinecone(api_key=PINECONE_API_KEY)\n",
    "\n",
    "index_name = \"medicalchatbot\"\n",
    "\n",
    "if index_name not in [i.name for i in pc.list_indexes()]:\n",
    "    pc.create_index(\n",
    "        name=index_name,\n",
    "        dimension=384,  # this must match your embedding output dim\n",
    "        metric=\"cosine\",\n",
    "        spec=ServerlessSpec(\n",
    "            cloud=\"aws\",\n",
    "            region=\"us-east-1\"\n",
    "        )\n",
    "    )\n"
   ]
  },
  {
   "cell_type": "code",
   "execution_count": 24,
   "id": "93cc2d5f",
   "metadata": {},
   "outputs": [],
   "source": [
    "# import os\n",
    "# os.environ[\"PINE_CONE_API_KEY\"] = PINE_CONE_API_KEY"
   ]
  },
  {
   "cell_type": "code",
   "execution_count": null,
   "id": "552347a5",
   "metadata": {},
   "outputs": [],
   "source": [
    "# from langchain_pinecone import PineconeVectorStore\n",
    "\n",
    "# docsearch = PineconeVectorStore.from_documents(\n",
    "#     documents=text_chunks,\n",
    "#     index_name=index_name,\n",
    "#     embedding=embeddings,\n",
    "#     pinecone_api_key=PINE_CONE_API_KEY,\n",
    "#     pinecone_environment=\"us-east-1\"  # must match the one in ServerlessSpec\n",
    "# )\n"
   ]
  },
  {
   "cell_type": "code",
   "execution_count": 45,
   "id": "ce5921f6",
   "metadata": {},
   "outputs": [],
   "source": [
    "from langchain_pinecone import PineconeVectorStore\n",
    "\n",
    "docsearch = PineconeVectorStore.from_documents(\n",
    "    documents=text_chunks,\n",
    "    embedding=embeddings,\n",
    "    index_name=index_name\n",
    ")\n"
   ]
  },
  {
   "cell_type": "code",
   "execution_count": 46,
   "id": "7d5efc42",
   "metadata": {},
   "outputs": [],
   "source": [
    "from langchain_pinecone import PineconeSparseVectorStore\n",
    "\n",
    "docsearch = PineconeVectorStore.from_existing_index(\n",
    "    index_name=index_name,\n",
    "    embedding=embeddings\n",
    ")"
   ]
  },
  {
   "cell_type": "code",
   "execution_count": 47,
   "id": "0a3c74a2",
   "metadata": {},
   "outputs": [
    {
     "data": {
      "text/plain": [
       "<langchain_pinecone.vectorstores.PineconeVectorStore at 0x2431065fd60>"
      ]
     },
     "execution_count": 47,
     "metadata": {},
     "output_type": "execute_result"
    }
   ],
   "source": [
    "docsearch"
   ]
  },
  {
   "cell_type": "code",
   "execution_count": 48,
   "id": "fdb49d6a",
   "metadata": {},
   "outputs": [],
   "source": [
    "retriver = docsearch.as_retriever(search_type=\"similarity\", search_kwargs={\"k\": 5})"
   ]
  },
  {
   "cell_type": "code",
   "execution_count": 49,
   "id": "b0d5458b",
   "metadata": {},
   "outputs": [],
   "source": [
    "retrived_docs = retriver.invoke(\"what is correlation?\")"
   ]
  },
  {
   "cell_type": "code",
   "execution_count": 50,
   "id": "064c1c65",
   "metadata": {},
   "outputs": [
    {
     "data": {
      "text/plain": [
       "[Document(id='566893a6-71cd-4bfb-9c5c-477efa12f492', metadata={'author': '', 'creationDate': \"D:20041218170002-05'00'\", 'creationdate': '2004-12-18T17:00:02-05:00', 'creator': '', 'file_path': 'Data\\\\Medical_book.pdf', 'format': 'PDF 1.5', 'keywords': '', 'modDate': \"D:20041218161531-06'00'\", 'moddate': '2004-12-18T16:15:31-06:00', 'page': 333.0, 'producer': 'PDFlib+PDI 5.0.0 (SunOS)', 'source': 'Data\\\\Medical_book.pdf', 'subject': '', 'title': '', 'total_pages': 637.0, 'trapped': ''}, page_content='• Repression. The person pushes anxious thoughts or\\nideas out of conscious awareness.\\n• Displacement. Anxiety from one source is attached to a\\ndifferent object or event. Phobias are an example of the\\nmechanism of displacement in psychoanalytic theory.\\n• Rationalization. The person justifies the anxious feel-\\nings by saying that any normal person would feel anx-\\nious in their situation.\\n• Somatization. The anxiety emerges in the form of phys-\\nical complaints and illnesses, such as recurrent'),\n",
       " Document(id='6df4ff8f-2545-4fe2-9c3b-a3e5ad948c43', metadata={'author': '', 'creationDate': \"D:20041218170002-05'00'\", 'creationdate': '2004-12-18T17:00:02-05:00', 'creator': '', 'file_path': 'Data\\\\Medical_book.pdf', 'format': 'PDF 1.5', 'keywords': '', 'modDate': \"D:20041218161531-06'00'\", 'moddate': '2004-12-18T16:15:31-06:00', 'page': 91.0, 'producer': 'PDFlib+PDI 5.0.0 (SunOS)', 'source': 'Data\\\\Medical_book.pdf', 'subject': '', 'title': '', 'total_pages': 637.0, 'trapped': ''}, page_content='thinking, confusion, and loss of muscular coordi-\\nnation.\\nAntibody—A specific protein produced by the\\nimmune system in response to a specific foreign\\nprotein or particle called an antigen.\\nAntigen—Any substance that stimulates the body to\\nproduce antibody.\\nAutoimmunity—A condition in which the body’s\\nimmune system produces antibodies in response to\\nits own tissues or blood components instead of for-\\neign particles or microorganisms.\\nCCR5—A chemokine receptor; defects in its struc-'),\n",
       " Document(id='750052e2-092b-47bf-8a61-87116c1dfdbf', metadata={'author': '', 'creationDate': \"D:20041218170002-05'00'\", 'creationdate': '2004-12-18T17:00:02-05:00', 'creator': '', 'file_path': 'Data\\\\Medical_book.pdf', 'format': 'PDF 1.5', 'keywords': '', 'modDate': \"D:20041218161531-06'00'\", 'moddate': '2004-12-18T16:15:31-06:00', 'page': 42.0, 'producer': 'PDFlib+PDI 5.0.0 (SunOS)', 'source': 'Data\\\\Medical_book.pdf', 'subject': '', 'title': '', 'total_pages': 637.0, 'trapped': ''}, page_content='a compound called DNA (deoxyribonucleic acid)\\nand containing the instructions for the production\\nof a particular protein. Each gene is found on a spe-\\ncific location on a chromosome.\\nMagnetic resonance imaging (MRI)—A test which\\nuses an external magnetic field instead of x rays to\\nvisualize different tissues of the body.\\nMyelin sheath—The cover that surrounds many\\nnerve cells and helps to increase the speed by\\nwhich information travels along the nerve.'),\n",
       " Document(id='5aebac79-40cd-4fd6-98f5-de06771be1c2', metadata={'author': '', 'creationDate': \"D:20041218170002-05'00'\", 'creationdate': '2004-12-18T17:00:02-05:00', 'creator': '', 'file_path': 'Data\\\\Medical_book.pdf', 'format': 'PDF 1.5', 'keywords': '', 'modDate': \"D:20041218161531-06'00'\", 'moddate': '2004-12-18T16:15:31-06:00', 'page': 165.0, 'producer': 'PDFlib+PDI 5.0.0 (SunOS)', 'source': 'Data\\\\Medical_book.pdf', 'subject': '', 'title': '', 'total_pages': 637.0, 'trapped': ''}, page_content='system of the brain responsible for memory storage, pro-\\ncessing, and recall. (Illustration by Electronic Illustrators Group).'),\n",
       " Document(id='724e9fdf-47db-410c-9341-c9868c89a7d3', metadata={'author': '', 'creationDate': \"D:20041218170002-05'00'\", 'creationdate': '2004-12-18T17:00:02-05:00', 'creator': '', 'file_path': 'Data\\\\Medical_book.pdf', 'format': 'PDF 1.5', 'keywords': '', 'modDate': \"D:20041218161531-06'00'\", 'moddate': '2004-12-18T16:15:31-06:00', 'page': 215.0, 'producer': 'PDFlib+PDI 5.0.0 (SunOS)', 'source': 'Data\\\\Medical_book.pdf', 'subject': '', 'title': '', 'total_pages': 637.0, 'trapped': ''}, page_content='<http://www.mayoclinic.com> (July 5, 2001).\\nKEY TERMS\\nPlaque—In atherosclerosis, a swollen area in the\\nlining of an artery formed by fatty deposits.\\nCardiac catheterization—A procedure to pass a\\ncatheter to the heart and its vessels for the purpose\\nof diagnosing coronary artery disease, assessing\\ninjury or disease of the aorta, or evaluating cardiac\\nfunction.\\nEKG—Electrocardiogram, used to study and record\\nthe electrical activity of the heart.')]"
      ]
     },
     "execution_count": 50,
     "metadata": {},
     "output_type": "execute_result"
    }
   ],
   "source": [
    "retrived_docs"
   ]
  },
  {
   "cell_type": "code",
   "execution_count": 58,
   "id": "256ea9d9",
   "metadata": {},
   "outputs": [
    {
     "name": "stdout",
     "output_type": "stream",
     "text": [
      "Defaulting to user installation because normal site-packages is not writeable\n",
      "Requirement already satisfied: langchain in c:\\users\\muhammad asim\\appdata\\roaming\\python\\python310\\site-packages (0.3.26)\n",
      "Requirement already satisfied: langchain-community in c:\\users\\muhammad asim\\appdata\\roaming\\python\\python310\\site-packages (0.3.27)\n",
      "Requirement already satisfied: openai in c:\\users\\muhammad asim\\appdata\\roaming\\python\\python310\\site-packages (1.97.1)\n",
      "Requirement already satisfied: langchain-core<1.0.0,>=0.3.66 in c:\\users\\muhammad asim\\appdata\\roaming\\python\\python310\\site-packages (from langchain) (0.3.72)\n",
      "Requirement already satisfied: langchain-text-splitters<1.0.0,>=0.3.8 in c:\\users\\muhammad asim\\appdata\\roaming\\python\\python310\\site-packages (from langchain) (0.3.8)\n",
      "Requirement already satisfied: langsmith>=0.1.17 in c:\\users\\muhammad asim\\appdata\\roaming\\python\\python310\\site-packages (from langchain) (0.4.8)\n",
      "Requirement already satisfied: pydantic<3.0.0,>=2.7.4 in c:\\users\\muhammad asim\\appdata\\roaming\\python\\python310\\site-packages (from langchain) (2.11.7)\n",
      "Requirement already satisfied: SQLAlchemy<3,>=1.4 in c:\\users\\muhammad asim\\appdata\\roaming\\python\\python310\\site-packages (from langchain) (2.0.41)\n",
      "Requirement already satisfied: requests<3,>=2 in c:\\users\\muhammad asim\\appdata\\roaming\\python\\python310\\site-packages (from langchain) (2.32.4)\n",
      "Requirement already satisfied: PyYAML>=5.3 in c:\\users\\muhammad asim\\appdata\\roaming\\python\\python310\\site-packages (from langchain) (6.0.2)\n",
      "Requirement already satisfied: async-timeout<5.0.0,>=4.0.0 in c:\\users\\muhammad asim\\appdata\\roaming\\python\\python310\\site-packages (from langchain) (4.0.3)\n",
      "Requirement already satisfied: tenacity!=8.4.0,<10.0.0,>=8.1.0 in c:\\users\\muhammad asim\\appdata\\roaming\\python\\python310\\site-packages (from langchain-core<1.0.0,>=0.3.66->langchain) (9.1.2)\n",
      "Requirement already satisfied: jsonpatch<2.0,>=1.33 in c:\\users\\muhammad asim\\appdata\\roaming\\python\\python310\\site-packages (from langchain-core<1.0.0,>=0.3.66->langchain) (1.33)\n",
      "Requirement already satisfied: typing-extensions>=4.7 in c:\\users\\muhammad asim\\appdata\\roaming\\python\\python310\\site-packages (from langchain-core<1.0.0,>=0.3.66->langchain) (4.14.0)\n",
      "Requirement already satisfied: packaging>=23.2 in c:\\users\\muhammad asim\\appdata\\roaming\\python\\python310\\site-packages (from langchain-core<1.0.0,>=0.3.66->langchain) (24.2)\n",
      "Requirement already satisfied: jsonpointer>=1.9 in c:\\users\\muhammad asim\\appdata\\roaming\\python\\python310\\site-packages (from jsonpatch<2.0,>=1.33->langchain-core<1.0.0,>=0.3.66->langchain) (3.0.0)\n",
      "Requirement already satisfied: annotated-types>=0.6.0 in c:\\users\\muhammad asim\\appdata\\roaming\\python\\python310\\site-packages (from pydantic<3.0.0,>=2.7.4->langchain) (0.7.0)\n",
      "Requirement already satisfied: pydantic-core==2.33.2 in c:\\users\\muhammad asim\\appdata\\roaming\\python\\python310\\site-packages (from pydantic<3.0.0,>=2.7.4->langchain) (2.33.2)\n",
      "Requirement already satisfied: typing-inspection>=0.4.0 in c:\\users\\muhammad asim\\appdata\\roaming\\python\\python310\\site-packages (from pydantic<3.0.0,>=2.7.4->langchain) (0.4.1)\n",
      "Requirement already satisfied: charset_normalizer<4,>=2 in c:\\users\\muhammad asim\\appdata\\roaming\\python\\python310\\site-packages (from requests<3,>=2->langchain) (3.4.2)\n",
      "Requirement already satisfied: idna<4,>=2.5 in c:\\users\\muhammad asim\\appdata\\roaming\\python\\python310\\site-packages (from requests<3,>=2->langchain) (3.10)\n",
      "Requirement already satisfied: urllib3<3,>=1.21.1 in c:\\users\\muhammad asim\\appdata\\roaming\\python\\python310\\site-packages (from requests<3,>=2->langchain) (2.5.0)\n",
      "Requirement already satisfied: certifi>=2017.4.17 in c:\\users\\muhammad asim\\appdata\\roaming\\python\\python310\\site-packages (from requests<3,>=2->langchain) (2025.6.15)\n",
      "Requirement already satisfied: greenlet>=1 in c:\\users\\muhammad asim\\appdata\\roaming\\python\\python310\\site-packages (from SQLAlchemy<3,>=1.4->langchain) (3.2.3)\n",
      "Requirement already satisfied: aiohttp<4.0.0,>=3.8.3 in c:\\users\\muhammad asim\\appdata\\roaming\\python\\python310\\site-packages (from langchain-community) (3.12.14)\n",
      "Requirement already satisfied: dataclasses-json<0.7,>=0.5.7 in c:\\users\\muhammad asim\\appdata\\roaming\\python\\python310\\site-packages (from langchain-community) (0.6.7)\n",
      "Requirement already satisfied: pydantic-settings<3.0.0,>=2.4.0 in c:\\users\\muhammad asim\\appdata\\roaming\\python\\python310\\site-packages (from langchain-community) (2.10.1)\n",
      "Requirement already satisfied: httpx-sse<1.0.0,>=0.4.0 in c:\\users\\muhammad asim\\appdata\\roaming\\python\\python310\\site-packages (from langchain-community) (0.4.1)\n",
      "Requirement already satisfied: numpy>=1.26.2 in c:\\users\\muhammad asim\\appdata\\roaming\\python\\python310\\site-packages (from langchain-community) (2.1.3)\n",
      "Requirement already satisfied: aiohappyeyeballs>=2.5.0 in c:\\users\\muhammad asim\\appdata\\roaming\\python\\python310\\site-packages (from aiohttp<4.0.0,>=3.8.3->langchain-community) (2.6.1)\n",
      "Requirement already satisfied: aiosignal>=1.4.0 in c:\\users\\muhammad asim\\appdata\\roaming\\python\\python310\\site-packages (from aiohttp<4.0.0,>=3.8.3->langchain-community) (1.4.0)\n",
      "Requirement already satisfied: attrs>=17.3.0 in c:\\users\\muhammad asim\\appdata\\roaming\\python\\python310\\site-packages (from aiohttp<4.0.0,>=3.8.3->langchain-community) (25.3.0)\n",
      "Requirement already satisfied: frozenlist>=1.1.1 in c:\\users\\muhammad asim\\appdata\\roaming\\python\\python310\\site-packages (from aiohttp<4.0.0,>=3.8.3->langchain-community) (1.7.0)\n",
      "Requirement already satisfied: multidict<7.0,>=4.5 in c:\\users\\muhammad asim\\appdata\\roaming\\python\\python310\\site-packages (from aiohttp<4.0.0,>=3.8.3->langchain-community) (6.6.3)\n",
      "Requirement already satisfied: propcache>=0.2.0 in c:\\users\\muhammad asim\\appdata\\roaming\\python\\python310\\site-packages (from aiohttp<4.0.0,>=3.8.3->langchain-community) (0.3.2)\n",
      "Requirement already satisfied: yarl<2.0,>=1.17.0 in c:\\users\\muhammad asim\\appdata\\roaming\\python\\python310\\site-packages (from aiohttp<4.0.0,>=3.8.3->langchain-community) (1.20.1)\n",
      "Requirement already satisfied: marshmallow<4.0.0,>=3.18.0 in c:\\users\\muhammad asim\\appdata\\roaming\\python\\python310\\site-packages (from dataclasses-json<0.7,>=0.5.7->langchain-community) (3.26.1)\n",
      "Requirement already satisfied: typing-inspect<1,>=0.4.0 in c:\\users\\muhammad asim\\appdata\\roaming\\python\\python310\\site-packages (from dataclasses-json<0.7,>=0.5.7->langchain-community) (0.9.0)\n",
      "Requirement already satisfied: python-dotenv>=0.21.0 in c:\\users\\muhammad asim\\appdata\\roaming\\python\\python310\\site-packages (from pydantic-settings<3.0.0,>=2.4.0->langchain-community) (1.1.1)\n",
      "Requirement already satisfied: mypy-extensions>=0.3.0 in c:\\users\\muhammad asim\\appdata\\roaming\\python\\python310\\site-packages (from typing-inspect<1,>=0.4.0->dataclasses-json<0.7,>=0.5.7->langchain-community) (1.1.0)\n",
      "Requirement already satisfied: anyio<5,>=3.5.0 in c:\\users\\muhammad asim\\appdata\\roaming\\python\\python310\\site-packages (from openai) (4.9.0)\n",
      "Requirement already satisfied: distro<2,>=1.7.0 in c:\\users\\muhammad asim\\appdata\\roaming\\python\\python310\\site-packages (from openai) (1.9.0)\n",
      "Requirement already satisfied: httpx<1,>=0.23.0 in c:\\users\\muhammad asim\\appdata\\roaming\\python\\python310\\site-packages (from openai) (0.28.1)\n",
      "Requirement already satisfied: jiter<1,>=0.4.0 in c:\\users\\muhammad asim\\appdata\\roaming\\python\\python310\\site-packages (from openai) (0.10.0)\n",
      "Requirement already satisfied: sniffio in c:\\users\\muhammad asim\\appdata\\roaming\\python\\python310\\site-packages (from openai) (1.3.1)\n",
      "Requirement already satisfied: tqdm>4 in c:\\users\\muhammad asim\\appdata\\roaming\\python\\python310\\site-packages (from openai) (4.67.1)\n",
      "Requirement already satisfied: exceptiongroup>=1.0.2 in c:\\users\\muhammad asim\\appdata\\roaming\\python\\python310\\site-packages (from anyio<5,>=3.5.0->openai) (1.3.0)\n",
      "Requirement already satisfied: httpcore==1.* in c:\\users\\muhammad asim\\appdata\\roaming\\python\\python310\\site-packages (from httpx<1,>=0.23.0->openai) (1.0.9)\n",
      "Requirement already satisfied: h11>=0.16 in c:\\users\\muhammad asim\\appdata\\roaming\\python\\python310\\site-packages (from httpcore==1.*->httpx<1,>=0.23.0->openai) (0.16.0)\n",
      "Requirement already satisfied: orjson<4.0.0,>=3.9.14 in c:\\users\\muhammad asim\\appdata\\roaming\\python\\python310\\site-packages (from langsmith>=0.1.17->langchain) (3.11.0)\n",
      "Requirement already satisfied: requests-toolbelt<2.0.0,>=1.0.0 in c:\\users\\muhammad asim\\appdata\\roaming\\python\\python310\\site-packages (from langsmith>=0.1.17->langchain) (1.0.0)\n",
      "Requirement already satisfied: zstandard<0.24.0,>=0.23.0 in c:\\users\\muhammad asim\\appdata\\roaming\\python\\python310\\site-packages (from langsmith>=0.1.17->langchain) (0.23.0)\n",
      "Requirement already satisfied: colorama in c:\\users\\muhammad asim\\appdata\\roaming\\python\\python310\\site-packages (from tqdm>4->openai) (0.4.6)\n",
      "Note: you may need to restart the kernel to use updated packages.\n"
     ]
    }
   ],
   "source": [
    "%pip install langchain langchain-community openai\n"
   ]
  },
  {
   "cell_type": "code",
   "execution_count": 64,
   "id": "2ee6d3ac",
   "metadata": {},
   "outputs": [],
   "source": [
    "from langchain_openai import ChatOpenAI\n",
    "import os\n",
    "\n",
    "os.environ[\"OPENAI_API_KEY\"] = \"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\"\n",
    "\n",
    "llm = ChatOpenAI(\n",
    "    model=\"deepseek/deepseek-r1-0528:free\",  \n",
    "    base_url=\"https://openrouter.ai/api/v1\",  \n",
    "    api_key=os.environ[\"OPENAI_API_KEY\"],\n",
    "    temperature=0.4 ,\n",
    "    max_tokens= 500\n",
    ")\n"
   ]
  },
  {
   "cell_type": "code",
   "execution_count": 65,
   "id": "4a0bd310",
   "metadata": {},
   "outputs": [],
   "source": [
    "from langchain.chains import create_retrieval_chain\n",
    "from langchain.chains.combine_documents import create_stuff_documents_chain\n",
    "from langchain_core.prompts import ChatPromptTemplate\n",
    "\n",
    "system_prompt = (\n",
    "    \"You are my assistant for Q/A tasks\"\n",
    "    \"User the following Piece of Retrived Context to answer the question at the end.\"\n",
    "    \"If you don't know the answer, just say that you don't know, don't try to make up an answer\"\n",
    "    \"Use three Sentences maximum and keep the answer concise.\"\n",
    "    \"\\n\\n\"\n",
    "    \"{context}\"\n",
    "\n",
    "\n",
    ")\n",
    "prompt = ChatPromptTemplate.from_messages(\n",
    "    [\n",
    "        (\"system\", system_prompt),\n",
    "        (\"human\", \"{input}\")\n",
    "    ]\n",
    ")\n",
    "\n"
   ]
  },
  {
   "cell_type": "code",
   "execution_count": 66,
   "id": "3194d6bc",
   "metadata": {},
   "outputs": [],
   "source": [
    "question_answer_chain = create_stuff_documents_chain(llm, prompt)\n",
    "rag_chain = create_retrieval_chain(retriver, question_answer_chain)"
   ]
  },
  {
   "cell_type": "code",
   "execution_count": 70,
   "id": "96286b1c",
   "metadata": {},
   "outputs": [
    {
     "name": "stdout",
     "output_type": "stream",
     "text": [
      "Based on the provided context:\n",
      "\n",
      "Acne is a common skin disease characterized by pimples on the face, chest, and back. It occurs when the pores of the skin become clogged with oil (sebum), dead skin cells, and bacteria, leading to inflammation. This blockage prevents sebum from flowing out normally, causing small swellings on the skin surface.\n"
     ]
    }
   ],
   "source": [
    "response = rag_chain.invoke({\"input\": \"What is Acne ?\"})\n",
    "print(response[\"answer\"])"
   ]
  }
 ],
 "metadata": {
  "kernelspec": {
   "display_name": "Python 3",
   "language": "python",
   "name": "python3"
  },
  "language_info": {
   "codemirror_mode": {
    "name": "ipython",
    "version": 3
   },
   "file_extension": ".py",
   "mimetype": "text/x-python",
   "name": "python",
   "nbconvert_exporter": "python",
   "pygments_lexer": "ipython3",
   "version": "3.10.0"
  }
 },
 "nbformat": 4,
 "nbformat_minor": 5
}
