{
 "cells": [
  {
   "cell_type": "code",
   "execution_count": 1,
   "id": "1f749c00",
   "metadata": {},
   "outputs": [
    {
     "name": "stdout",
     "output_type": "stream",
     "text": [
      "Requirement already satisfied: pip in d:\\introduction to programming with python\\pythonprojects\\.venv\\lib\\site-packages (25.1.1)\n",
      "Requirement already satisfied: setuptools in d:\\introduction to programming with python\\pythonprojects\\.venv\\lib\\site-packages (80.9.0)\n",
      "Requirement already satisfied: wheel in d:\\introduction to programming with python\\pythonprojects\\.venv\\lib\\site-packages (0.45.1)\n",
      "Note: you may need to restart the kernel to use updated packages.\n",
      "Requirement already satisfied: sentence-transformers<3.0,>=2.2.2 in d:\\introduction to programming with python\\pythonprojects\\.venv\\lib\\site-packages (2.7.0)\n",
      "Requirement already satisfied: langchain in d:\\introduction to programming with python\\pythonprojects\\.venv\\lib\\site-packages (0.3.26)\n",
      "Requirement already satisfied: flask in d:\\introduction to programming with python\\pythonprojects\\.venv\\lib\\site-packages (3.1.1)\n",
      "Requirement already satisfied: pypdf in d:\\introduction to programming with python\\pythonprojects\\.venv\\lib\\site-packages (5.8.0)\n",
      "Requirement already satisfied: python-dotenv in d:\\introduction to programming with python\\pythonprojects\\.venv\\lib\\site-packages (1.1.1)\n",
      "Requirement already satisfied: langchain-pinecone in d:\\introduction to programming with python\\pythonprojects\\.venv\\lib\\site-packages (0.2.11)\n",
      "Requirement already satisfied: langchain-community in d:\\introduction to programming with python\\pythonprojects\\.venv\\lib\\site-packages (0.3.27)\n",
      "Requirement already satisfied: langchain-openai in d:\\introduction to programming with python\\pythonprojects\\.venv\\lib\\site-packages (0.3.28)\n",
      "Requirement already satisfied: langchain-experimental in d:\\introduction to programming with python\\pythonprojects\\.venv\\lib\\site-packages (0.3.4)\n",
      "Requirement already satisfied: pinecone-client[grpc] in d:\\introduction to programming with python\\pythonprojects\\.venv\\lib\\site-packages (6.0.0)\n",
      "Requirement already satisfied: transformers<5.0.0,>=4.34.0 in d:\\introduction to programming with python\\pythonprojects\\.venv\\lib\\site-packages (from sentence-transformers<3.0,>=2.2.2) (4.53.3)\n",
      "Requirement already satisfied: tqdm in d:\\introduction to programming with python\\pythonprojects\\.venv\\lib\\site-packages (from sentence-transformers<3.0,>=2.2.2) (4.67.1)\n",
      "Requirement already satisfied: torch>=1.11.0 in d:\\introduction to programming with python\\pythonprojects\\.venv\\lib\\site-packages (from sentence-transformers<3.0,>=2.2.2) (2.7.1)\n",
      "Requirement already satisfied: numpy in d:\\introduction to programming with python\\pythonprojects\\.venv\\lib\\site-packages (from sentence-transformers<3.0,>=2.2.2) (2.3.1)\n",
      "Requirement already satisfied: scikit-learn in d:\\introduction to programming with python\\pythonprojects\\.venv\\lib\\site-packages (from sentence-transformers<3.0,>=2.2.2) (1.7.1)\n",
      "Requirement already satisfied: scipy in d:\\introduction to programming with python\\pythonprojects\\.venv\\lib\\site-packages (from sentence-transformers<3.0,>=2.2.2) (1.16.0)\n",
      "Requirement already satisfied: huggingface-hub>=0.15.1 in d:\\introduction to programming with python\\pythonprojects\\.venv\\lib\\site-packages (from sentence-transformers<3.0,>=2.2.2) (0.33.4)\n",
      "Requirement already satisfied: Pillow in d:\\introduction to programming with python\\pythonprojects\\.venv\\lib\\site-packages (from sentence-transformers<3.0,>=2.2.2) (11.2.1)\n",
      "Requirement already satisfied: filelock in d:\\introduction to programming with python\\pythonprojects\\.venv\\lib\\site-packages (from transformers<5.0.0,>=4.34.0->sentence-transformers<3.0,>=2.2.2) (3.18.0)\n",
      "Requirement already satisfied: packaging>=20.0 in d:\\introduction to programming with python\\pythonprojects\\.venv\\lib\\site-packages (from transformers<5.0.0,>=4.34.0->sentence-transformers<3.0,>=2.2.2) (24.2)\n",
      "Requirement already satisfied: pyyaml>=5.1 in d:\\introduction to programming with python\\pythonprojects\\.venv\\lib\\site-packages (from transformers<5.0.0,>=4.34.0->sentence-transformers<3.0,>=2.2.2) (6.0.2)\n",
      "Requirement already satisfied: regex!=2019.12.17 in d:\\introduction to programming with python\\pythonprojects\\.venv\\lib\\site-packages (from transformers<5.0.0,>=4.34.0->sentence-transformers<3.0,>=2.2.2) (2024.11.6)\n",
      "Requirement already satisfied: requests in d:\\introduction to programming with python\\pythonprojects\\.venv\\lib\\site-packages (from transformers<5.0.0,>=4.34.0->sentence-transformers<3.0,>=2.2.2) (2.32.4)\n",
      "Requirement already satisfied: tokenizers<0.22,>=0.21 in d:\\introduction to programming with python\\pythonprojects\\.venv\\lib\\site-packages (from transformers<5.0.0,>=4.34.0->sentence-transformers<3.0,>=2.2.2) (0.21.2)\n",
      "Requirement already satisfied: safetensors>=0.4.3 in d:\\introduction to programming with python\\pythonprojects\\.venv\\lib\\site-packages (from transformers<5.0.0,>=4.34.0->sentence-transformers<3.0,>=2.2.2) (0.5.3)\n",
      "Requirement already satisfied: fsspec>=2023.5.0 in d:\\introduction to programming with python\\pythonprojects\\.venv\\lib\\site-packages (from huggingface-hub>=0.15.1->sentence-transformers<3.0,>=2.2.2) (2025.7.0)\n",
      "Requirement already satisfied: typing-extensions>=3.7.4.3 in d:\\introduction to programming with python\\pythonprojects\\.venv\\lib\\site-packages (from huggingface-hub>=0.15.1->sentence-transformers<3.0,>=2.2.2) (4.14.0)\n",
      "Requirement already satisfied: langchain-core<1.0.0,>=0.3.66 in d:\\introduction to programming with python\\pythonprojects\\.venv\\lib\\site-packages (from langchain) (0.3.71)\n",
      "Requirement already satisfied: langchain-text-splitters<1.0.0,>=0.3.8 in d:\\introduction to programming with python\\pythonprojects\\.venv\\lib\\site-packages (from langchain) (0.3.8)\n",
      "Requirement already satisfied: langsmith>=0.1.17 in d:\\introduction to programming with python\\pythonprojects\\.venv\\lib\\site-packages (from langchain) (0.4.8)\n",
      "Requirement already satisfied: pydantic<3.0.0,>=2.7.4 in d:\\introduction to programming with python\\pythonprojects\\.venv\\lib\\site-packages (from langchain) (2.11.7)\n",
      "Requirement already satisfied: SQLAlchemy<3,>=1.4 in d:\\introduction to programming with python\\pythonprojects\\.venv\\lib\\site-packages (from langchain) (2.0.41)\n",
      "Requirement already satisfied: tenacity!=8.4.0,<10.0.0,>=8.1.0 in d:\\introduction to programming with python\\pythonprojects\\.venv\\lib\\site-packages (from langchain-core<1.0.0,>=0.3.66->langchain) (9.1.2)\n",
      "Requirement already satisfied: jsonpatch<2.0,>=1.33 in d:\\introduction to programming with python\\pythonprojects\\.venv\\lib\\site-packages (from langchain-core<1.0.0,>=0.3.66->langchain) (1.33)\n",
      "Requirement already satisfied: jsonpointer>=1.9 in d:\\introduction to programming with python\\pythonprojects\\.venv\\lib\\site-packages (from jsonpatch<2.0,>=1.33->langchain-core<1.0.0,>=0.3.66->langchain) (3.0.0)\n",
      "Requirement already satisfied: annotated-types>=0.6.0 in d:\\introduction to programming with python\\pythonprojects\\.venv\\lib\\site-packages (from pydantic<3.0.0,>=2.7.4->langchain) (0.7.0)\n",
      "Requirement already satisfied: pydantic-core==2.33.2 in d:\\introduction to programming with python\\pythonprojects\\.venv\\lib\\site-packages (from pydantic<3.0.0,>=2.7.4->langchain) (2.33.2)\n",
      "Requirement already satisfied: typing-inspection>=0.4.0 in d:\\introduction to programming with python\\pythonprojects\\.venv\\lib\\site-packages (from pydantic<3.0.0,>=2.7.4->langchain) (0.4.1)\n",
      "Requirement already satisfied: charset_normalizer<4,>=2 in d:\\introduction to programming with python\\pythonprojects\\.venv\\lib\\site-packages (from requests->transformers<5.0.0,>=4.34.0->sentence-transformers<3.0,>=2.2.2) (3.4.2)\n",
      "Requirement already satisfied: idna<4,>=2.5 in d:\\introduction to programming with python\\pythonprojects\\.venv\\lib\\site-packages (from requests->transformers<5.0.0,>=4.34.0->sentence-transformers<3.0,>=2.2.2) (3.10)\n",
      "Requirement already satisfied: urllib3<3,>=1.21.1 in d:\\introduction to programming with python\\pythonprojects\\.venv\\lib\\site-packages (from requests->transformers<5.0.0,>=4.34.0->sentence-transformers<3.0,>=2.2.2) (2.5.0)\n",
      "Requirement already satisfied: certifi>=2017.4.17 in d:\\introduction to programming with python\\pythonprojects\\.venv\\lib\\site-packages (from requests->transformers<5.0.0,>=4.34.0->sentence-transformers<3.0,>=2.2.2) (2025.6.15)\n",
      "Requirement already satisfied: greenlet>=1 in d:\\introduction to programming with python\\pythonprojects\\.venv\\lib\\site-packages (from SQLAlchemy<3,>=1.4->langchain) (3.2.3)\n",
      "Requirement already satisfied: blinker>=1.9.0 in d:\\introduction to programming with python\\pythonprojects\\.venv\\lib\\site-packages (from flask) (1.9.0)\n",
      "Requirement already satisfied: click>=8.1.3 in d:\\introduction to programming with python\\pythonprojects\\.venv\\lib\\site-packages (from flask) (8.2.1)\n",
      "Requirement already satisfied: itsdangerous>=2.2.0 in d:\\introduction to programming with python\\pythonprojects\\.venv\\lib\\site-packages (from flask) (2.2.0)\n",
      "Requirement already satisfied: jinja2>=3.1.2 in d:\\introduction to programming with python\\pythonprojects\\.venv\\lib\\site-packages (from flask) (3.1.6)\n",
      "Requirement already satisfied: markupsafe>=2.1.1 in d:\\introduction to programming with python\\pythonprojects\\.venv\\lib\\site-packages (from flask) (3.0.2)\n",
      "Requirement already satisfied: werkzeug>=3.1.0 in d:\\introduction to programming with python\\pythonprojects\\.venv\\lib\\site-packages (from flask) (3.1.3)\n",
      "Requirement already satisfied: googleapis-common-protos>=1.66.0 in d:\\introduction to programming with python\\pythonprojects\\.venv\\lib\\site-packages (from pinecone-client[grpc]) (1.70.0)\n",
      "Requirement already satisfied: grpcio>=1.59.0 in d:\\introduction to programming with python\\pythonprojects\\.venv\\lib\\site-packages (from pinecone-client[grpc]) (1.73.1)\n",
      "Requirement already satisfied: lz4>=3.1.3 in d:\\introduction to programming with python\\pythonprojects\\.venv\\lib\\site-packages (from pinecone-client[grpc]) (4.4.4)\n",
      "Requirement already satisfied: pinecone-plugin-interface<0.0.8,>=0.0.7 in d:\\introduction to programming with python\\pythonprojects\\.venv\\lib\\site-packages (from pinecone-client[grpc]) (0.0.7)\n",
      "Requirement already satisfied: protobuf<6.0,>=5.29 in d:\\introduction to programming with python\\pythonprojects\\.venv\\lib\\site-packages (from pinecone-client[grpc]) (5.29.5)\n",
      "Requirement already satisfied: protoc-gen-openapiv2<0.0.2,>=0.0.1 in d:\\introduction to programming with python\\pythonprojects\\.venv\\lib\\site-packages (from pinecone-client[grpc]) (0.0.1)\n",
      "Requirement already satisfied: python-dateutil>=2.5.3 in d:\\introduction to programming with python\\pythonprojects\\.venv\\lib\\site-packages (from pinecone-client[grpc]) (2.9.0.post0)\n",
      "Requirement already satisfied: pinecone<8.0.0,>=6.0.0 in d:\\introduction to programming with python\\pythonprojects\\.venv\\lib\\site-packages (from pinecone[asyncio]<8.0.0,>=6.0.0->langchain-pinecone) (7.3.0)\n",
      "Requirement already satisfied: langchain-tests<1.0.0,>=0.3.7 in d:\\introduction to programming with python\\pythonprojects\\.venv\\lib\\site-packages (from langchain-pinecone) (0.3.20)\n",
      "Requirement already satisfied: pytest<9,>=7 in d:\\introduction to programming with python\\pythonprojects\\.venv\\lib\\site-packages (from langchain-tests<1.0.0,>=0.3.7->langchain-pinecone) (8.4.1)\n",
      "Requirement already satisfied: pytest-asyncio<1,>=0.20 in d:\\introduction to programming with python\\pythonprojects\\.venv\\lib\\site-packages (from langchain-tests<1.0.0,>=0.3.7->langchain-pinecone) (0.26.0)\n",
      "Requirement already satisfied: httpx<1,>=0.25.0 in d:\\introduction to programming with python\\pythonprojects\\.venv\\lib\\site-packages (from langchain-tests<1.0.0,>=0.3.7->langchain-pinecone) (0.28.1)\n",
      "Requirement already satisfied: syrupy<5,>=4 in d:\\introduction to programming with python\\pythonprojects\\.venv\\lib\\site-packages (from langchain-tests<1.0.0,>=0.3.7->langchain-pinecone) (4.9.1)\n",
      "Requirement already satisfied: pytest-socket<1,>=0.6.0 in d:\\introduction to programming with python\\pythonprojects\\.venv\\lib\\site-packages (from langchain-tests<1.0.0,>=0.3.7->langchain-pinecone) (0.7.0)\n",
      "Requirement already satisfied: pytest-benchmark in d:\\introduction to programming with python\\pythonprojects\\.venv\\lib\\site-packages (from langchain-tests<1.0.0,>=0.3.7->langchain-pinecone) (5.1.0)\n",
      "Requirement already satisfied: pytest-codspeed in d:\\introduction to programming with python\\pythonprojects\\.venv\\lib\\site-packages (from langchain-tests<1.0.0,>=0.3.7->langchain-pinecone) (4.0.0)\n",
      "Requirement already satisfied: pytest-recording in d:\\introduction to programming with python\\pythonprojects\\.venv\\lib\\site-packages (from langchain-tests<1.0.0,>=0.3.7->langchain-pinecone) (0.13.4)\n",
      "Requirement already satisfied: vcrpy>=7.0 in d:\\introduction to programming with python\\pythonprojects\\.venv\\lib\\site-packages (from langchain-tests<1.0.0,>=0.3.7->langchain-pinecone) (7.0.0)\n",
      "Requirement already satisfied: anyio in d:\\introduction to programming with python\\pythonprojects\\.venv\\lib\\site-packages (from httpx<1,>=0.25.0->langchain-tests<1.0.0,>=0.3.7->langchain-pinecone) (4.9.0)\n",
      "Requirement already satisfied: httpcore==1.* in d:\\introduction to programming with python\\pythonprojects\\.venv\\lib\\site-packages (from httpx<1,>=0.25.0->langchain-tests<1.0.0,>=0.3.7->langchain-pinecone) (1.0.9)\n",
      "Requirement already satisfied: h11>=0.16 in d:\\introduction to programming with python\\pythonprojects\\.venv\\lib\\site-packages (from httpcore==1.*->httpx<1,>=0.25.0->langchain-tests<1.0.0,>=0.3.7->langchain-pinecone) (0.16.0)\n",
      "Requirement already satisfied: pinecone-plugin-assistant<2.0.0,>=1.6.0 in d:\\introduction to programming with python\\pythonprojects\\.venv\\lib\\site-packages (from pinecone<8.0.0,>=6.0.0->pinecone[asyncio]<8.0.0,>=6.0.0->langchain-pinecone) (1.7.0)\n",
      "Requirement already satisfied: aiohttp>=3.9.0 in d:\\introduction to programming with python\\pythonprojects\\.venv\\lib\\site-packages (from pinecone[asyncio]<8.0.0,>=6.0.0->langchain-pinecone) (3.12.14)\n",
      "Requirement already satisfied: aiohttp-retry<3.0.0,>=2.9.1 in d:\\introduction to programming with python\\pythonprojects\\.venv\\lib\\site-packages (from pinecone[asyncio]<8.0.0,>=6.0.0->langchain-pinecone) (2.9.1)\n",
      "Requirement already satisfied: colorama>=0.4 in d:\\introduction to programming with python\\pythonprojects\\.venv\\lib\\site-packages (from pytest<9,>=7->langchain-tests<1.0.0,>=0.3.7->langchain-pinecone) (0.4.6)\n",
      "Requirement already satisfied: iniconfig>=1 in d:\\introduction to programming with python\\pythonprojects\\.venv\\lib\\site-packages (from pytest<9,>=7->langchain-tests<1.0.0,>=0.3.7->langchain-pinecone) (2.1.0)\n",
      "Requirement already satisfied: pluggy<2,>=1.5 in d:\\introduction to programming with python\\pythonprojects\\.venv\\lib\\site-packages (from pytest<9,>=7->langchain-tests<1.0.0,>=0.3.7->langchain-pinecone) (1.6.0)\n",
      "Requirement already satisfied: pygments>=2.7.2 in d:\\introduction to programming with python\\pythonprojects\\.venv\\lib\\site-packages (from pytest<9,>=7->langchain-tests<1.0.0,>=0.3.7->langchain-pinecone) (2.19.2)\n",
      "Requirement already satisfied: dataclasses-json<0.7,>=0.5.7 in d:\\introduction to programming with python\\pythonprojects\\.venv\\lib\\site-packages (from langchain-community) (0.6.7)\n",
      "Requirement already satisfied: pydantic-settings<3.0.0,>=2.4.0 in d:\\introduction to programming with python\\pythonprojects\\.venv\\lib\\site-packages (from langchain-community) (2.10.1)\n",
      "Requirement already satisfied: httpx-sse<1.0.0,>=0.4.0 in d:\\introduction to programming with python\\pythonprojects\\.venv\\lib\\site-packages (from langchain-community) (0.4.1)\n",
      "Requirement already satisfied: aiohappyeyeballs>=2.5.0 in d:\\introduction to programming with python\\pythonprojects\\.venv\\lib\\site-packages (from aiohttp>=3.9.0->pinecone[asyncio]<8.0.0,>=6.0.0->langchain-pinecone) (2.6.1)\n",
      "Requirement already satisfied: aiosignal>=1.4.0 in d:\\introduction to programming with python\\pythonprojects\\.venv\\lib\\site-packages (from aiohttp>=3.9.0->pinecone[asyncio]<8.0.0,>=6.0.0->langchain-pinecone) (1.4.0)\n",
      "Requirement already satisfied: attrs>=17.3.0 in d:\\introduction to programming with python\\pythonprojects\\.venv\\lib\\site-packages (from aiohttp>=3.9.0->pinecone[asyncio]<8.0.0,>=6.0.0->langchain-pinecone) (25.3.0)\n",
      "Requirement already satisfied: frozenlist>=1.1.1 in d:\\introduction to programming with python\\pythonprojects\\.venv\\lib\\site-packages (from aiohttp>=3.9.0->pinecone[asyncio]<8.0.0,>=6.0.0->langchain-pinecone) (1.7.0)\n",
      "Requirement already satisfied: multidict<7.0,>=4.5 in d:\\introduction to programming with python\\pythonprojects\\.venv\\lib\\site-packages (from aiohttp>=3.9.0->pinecone[asyncio]<8.0.0,>=6.0.0->langchain-pinecone) (6.6.3)\n",
      "Requirement already satisfied: propcache>=0.2.0 in d:\\introduction to programming with python\\pythonprojects\\.venv\\lib\\site-packages (from aiohttp>=3.9.0->pinecone[asyncio]<8.0.0,>=6.0.0->langchain-pinecone) (0.3.2)\n",
      "Requirement already satisfied: yarl<2.0,>=1.17.0 in d:\\introduction to programming with python\\pythonprojects\\.venv\\lib\\site-packages (from aiohttp>=3.9.0->pinecone[asyncio]<8.0.0,>=6.0.0->langchain-pinecone) (1.20.1)\n",
      "Requirement already satisfied: marshmallow<4.0.0,>=3.18.0 in d:\\introduction to programming with python\\pythonprojects\\.venv\\lib\\site-packages (from dataclasses-json<0.7,>=0.5.7->langchain-community) (3.26.1)\n",
      "Requirement already satisfied: typing-inspect<1,>=0.4.0 in d:\\introduction to programming with python\\pythonprojects\\.venv\\lib\\site-packages (from dataclasses-json<0.7,>=0.5.7->langchain-community) (0.9.0)\n",
      "Requirement already satisfied: mypy-extensions>=0.3.0 in d:\\introduction to programming with python\\pythonprojects\\.venv\\lib\\site-packages (from typing-inspect<1,>=0.4.0->dataclasses-json<0.7,>=0.5.7->langchain-community) (1.1.0)\n",
      "Requirement already satisfied: openai<2.0.0,>=1.86.0 in d:\\introduction to programming with python\\pythonprojects\\.venv\\lib\\site-packages (from langchain-openai) (1.97.1)\n",
      "Requirement already satisfied: tiktoken<1,>=0.7 in d:\\introduction to programming with python\\pythonprojects\\.venv\\lib\\site-packages (from langchain-openai) (0.9.0)\n",
      "Requirement already satisfied: distro<2,>=1.7.0 in d:\\introduction to programming with python\\pythonprojects\\.venv\\lib\\site-packages (from openai<2.0.0,>=1.86.0->langchain-openai) (1.9.0)\n",
      "Requirement already satisfied: jiter<1,>=0.4.0 in d:\\introduction to programming with python\\pythonprojects\\.venv\\lib\\site-packages (from openai<2.0.0,>=1.86.0->langchain-openai) (0.10.0)\n",
      "Requirement already satisfied: sniffio in d:\\introduction to programming with python\\pythonprojects\\.venv\\lib\\site-packages (from openai<2.0.0,>=1.86.0->langchain-openai) (1.3.1)\n",
      "Requirement already satisfied: orjson<4.0.0,>=3.9.14 in d:\\introduction to programming with python\\pythonprojects\\.venv\\lib\\site-packages (from langsmith>=0.1.17->langchain) (3.11.0)\n",
      "Requirement already satisfied: requests-toolbelt<2.0.0,>=1.0.0 in d:\\introduction to programming with python\\pythonprojects\\.venv\\lib\\site-packages (from langsmith>=0.1.17->langchain) (1.0.0)\n",
      "Requirement already satisfied: zstandard<0.24.0,>=0.23.0 in d:\\introduction to programming with python\\pythonprojects\\.venv\\lib\\site-packages (from langsmith>=0.1.17->langchain) (0.23.0)\n",
      "Requirement already satisfied: six>=1.5 in d:\\introduction to programming with python\\pythonprojects\\.venv\\lib\\site-packages (from python-dateutil>=2.5.3->pinecone-client[grpc]) (1.17.0)\n",
      "Requirement already satisfied: sympy>=1.13.3 in d:\\introduction to programming with python\\pythonprojects\\.venv\\lib\\site-packages (from torch>=1.11.0->sentence-transformers<3.0,>=2.2.2) (1.14.0)\n",
      "Requirement already satisfied: networkx in d:\\introduction to programming with python\\pythonprojects\\.venv\\lib\\site-packages (from torch>=1.11.0->sentence-transformers<3.0,>=2.2.2) (3.5)\n",
      "Requirement already satisfied: setuptools in d:\\introduction to programming with python\\pythonprojects\\.venv\\lib\\site-packages (from torch>=1.11.0->sentence-transformers<3.0,>=2.2.2) (80.9.0)\n",
      "Requirement already satisfied: mpmath<1.4,>=1.1.0 in d:\\introduction to programming with python\\pythonprojects\\.venv\\lib\\site-packages (from sympy>=1.13.3->torch>=1.11.0->sentence-transformers<3.0,>=2.2.2) (1.3.0)\n",
      "Requirement already satisfied: wrapt in d:\\introduction to programming with python\\pythonprojects\\.venv\\lib\\site-packages (from vcrpy>=7.0->langchain-tests<1.0.0,>=0.3.7->langchain-pinecone) (1.17.2)\n",
      "Requirement already satisfied: py-cpuinfo in d:\\introduction to programming with python\\pythonprojects\\.venv\\lib\\site-packages (from pytest-benchmark->langchain-tests<1.0.0,>=0.3.7->langchain-pinecone) (9.0.0)\n",
      "Requirement already satisfied: cffi>=1.17.1 in d:\\introduction to programming with python\\pythonprojects\\.venv\\lib\\site-packages (from pytest-codspeed->langchain-tests<1.0.0,>=0.3.7->langchain-pinecone) (1.17.1)\n",
      "Requirement already satisfied: rich>=13.8.1 in d:\\introduction to programming with python\\pythonprojects\\.venv\\lib\\site-packages (from pytest-codspeed->langchain-tests<1.0.0,>=0.3.7->langchain-pinecone) (14.0.0)\n",
      "Requirement already satisfied: pycparser in d:\\introduction to programming with python\\pythonprojects\\.venv\\lib\\site-packages (from cffi>=1.17.1->pytest-codspeed->langchain-tests<1.0.0,>=0.3.7->langchain-pinecone) (2.22)\n",
      "Requirement already satisfied: markdown-it-py>=2.2.0 in d:\\introduction to programming with python\\pythonprojects\\.venv\\lib\\site-packages (from rich>=13.8.1->pytest-codspeed->langchain-tests<1.0.0,>=0.3.7->langchain-pinecone) (3.0.0)\n",
      "Requirement already satisfied: mdurl~=0.1 in d:\\introduction to programming with python\\pythonprojects\\.venv\\lib\\site-packages (from markdown-it-py>=2.2.0->rich>=13.8.1->pytest-codspeed->langchain-tests<1.0.0,>=0.3.7->langchain-pinecone) (0.1.2)\n",
      "Requirement already satisfied: joblib>=1.2.0 in d:\\introduction to programming with python\\pythonprojects\\.venv\\lib\\site-packages (from scikit-learn->sentence-transformers<3.0,>=2.2.2) (1.5.1)\n",
      "Requirement already satisfied: threadpoolctl>=3.1.0 in d:\\introduction to programming with python\\pythonprojects\\.venv\\lib\\site-packages (from scikit-learn->sentence-transformers<3.0,>=2.2.2) (3.6.0)\n",
      "Note: you may need to restart the kernel to use updated packages.\n"
     ]
    }
   ],
   "source": [
    "# ✅ Step 1: Upgrade pip, setuptools, and wheel first (important!)\n",
    "%pip install --upgrade pip setuptools wheel\n",
    "\n",
    "# ✅ Step 2: Install all required libraries (with fixed package names)\n",
    "%pip install \\\n",
    "    \"sentence-transformers>=2.2.2,<3.0\" \\\n",
    "    langchain \\\n",
    "    flask \\\n",
    "    pypdf \\\n",
    "    python-dotenv \\\n",
    "    \"pinecone-client[grpc]\" \\\n",
    "    langchain-pinecone \\\n",
    "    langchain-community \\\n",
    "    langchain-openai \\\n",
    "    langchain-experimental\n"
   ]
  },
  {
   "cell_type": "code",
   "execution_count": 2,
   "id": "3d197573",
   "metadata": {},
   "outputs": [
    {
     "data": {
      "text/plain": [
       "'d:\\\\Introduction to Programming with Python\\\\PythonProjects\\\\Medical chat Bot\\\\research'"
      ]
     },
     "execution_count": 2,
     "metadata": {},
     "output_type": "execute_result"
    }
   ],
   "source": [
    "%pwd"
   ]
  },
  {
   "cell_type": "code",
   "execution_count": 3,
   "id": "4442ca0f",
   "metadata": {},
   "outputs": [
    {
     "data": {
      "text/plain": [
       "'d:\\\\Introduction to Programming with Python\\\\PythonProjects\\\\Medical chat Bot\\\\research'"
      ]
     },
     "execution_count": 3,
     "metadata": {},
     "output_type": "execute_result"
    }
   ],
   "source": [
    "%pwd"
   ]
  },
  {
   "cell_type": "code",
   "execution_count": 4,
   "id": "ffaeb2d5",
   "metadata": {},
   "outputs": [],
   "source": [
    "import os \n",
    "os.chdir(\"../\")"
   ]
  },
  {
   "cell_type": "code",
   "execution_count": 5,
   "id": "f46b6e89",
   "metadata": {},
   "outputs": [],
   "source": [
    "from langchain.document_loaders import PyMuPDFLoader, DirectoryLoader\n",
    "from langchain.text_splitter import RecursiveCharacterTextSplitter"
   ]
  },
  {
   "cell_type": "code",
   "execution_count": 6,
   "id": "ac3e75bf",
   "metadata": {},
   "outputs": [],
   "source": [
    "def load_pdf(data):\n",
    "    loader = DirectoryLoader(data,\n",
    "                             glob=\"*.pdf\",\n",
    "                             loader_cls=PyMuPDFLoader\n",
    "                             )\n",
    "    document = loader.load()\n",
    "    return document"
   ]
  },
  {
   "cell_type": "code",
   "execution_count": 7,
   "id": "a17b0631",
   "metadata": {},
   "outputs": [
    {
     "data": {
      "text/plain": [
       "'d:\\\\Introduction to Programming with Python\\\\PythonProjects\\\\Medical chat Bot'"
      ]
     },
     "execution_count": 7,
     "metadata": {},
     "output_type": "execute_result"
    }
   ],
   "source": [
    "%pwd"
   ]
  },
  {
   "cell_type": "code",
   "execution_count": 8,
   "id": "21d7a068",
   "metadata": {},
   "outputs": [],
   "source": [
    "extracted_data = load_pdf(data='Data/')"
   ]
  },
  {
   "cell_type": "code",
   "execution_count": 9,
   "id": "db944f62",
   "metadata": {},
   "outputs": [],
   "source": [
    "# extracted_data"
   ]
  },
  {
   "cell_type": "code",
   "execution_count": 10,
   "id": "d0832453",
   "metadata": {},
   "outputs": [],
   "source": [
    "def text_split(extracted_data):\n",
    "    text_splitter = RecursiveCharacterTextSplitter(chunk_size = 500, chunk_overlap = 20)\n",
    "    text_chunks = text_splitter.split_documents(extracted_data)\n",
    "    return text_chunks"
   ]
  },
  {
   "cell_type": "code",
   "execution_count": 11,
   "id": "1936c95f",
   "metadata": {},
   "outputs": [
    {
     "name": "stdout",
     "output_type": "stream",
     "text": [
      "Length of Text chunks 5777\n"
     ]
    }
   ],
   "source": [
    "text_chunks = text_split(extracted_data)\n",
    "print(\"Length of Text chunks\", len(text_chunks))"
   ]
  },
  {
   "cell_type": "code",
   "execution_count": 12,
   "id": "c01ff034",
   "metadata": {},
   "outputs": [],
   "source": [
    "# text_chunks"
   ]
  },
  {
   "cell_type": "code",
   "execution_count": 13,
   "id": "5851e67d",
   "metadata": {},
   "outputs": [],
   "source": [
    "from langchain.embeddings import HuggingFaceEmbeddings"
   ]
  },
  {
   "cell_type": "code",
   "execution_count": 14,
   "id": "7ef499e2",
   "metadata": {},
   "outputs": [],
   "source": [
    "def download_hugging_face_embeddings():\n",
    "    # Download the Hugging Face Embeddings\n",
    "    emdeddings = HuggingFaceEmbeddings(model_name = 'sentence-transformers/all-MiniLM-L6-v2')\n",
    "    return emdeddings"
   ]
  },
  {
   "cell_type": "code",
   "execution_count": 15,
   "id": "2e5642f6",
   "metadata": {},
   "outputs": [
    {
     "name": "stderr",
     "output_type": "stream",
     "text": [
      "C:\\Users\\Muhammad Asim\\AppData\\Local\\Temp\\ipykernel_7772\\2436550048.py:3: LangChainDeprecationWarning: The class `HuggingFaceEmbeddings` was deprecated in LangChain 0.2.2 and will be removed in 1.0. An updated version of the class exists in the :class:`~langchain-huggingface package and should be used instead. To use it run `pip install -U :class:`~langchain-huggingface` and import as `from :class:`~langchain_huggingface import HuggingFaceEmbeddings``.\n",
      "  emdeddings = HuggingFaceEmbeddings(model_name = 'sentence-transformers/all-MiniLM-L6-v2')\n",
      "d:\\Introduction to Programming with Python\\PythonProjects\\.venv\\Lib\\site-packages\\tqdm\\auto.py:21: TqdmWarning: IProgress not found. Please update jupyter and ipywidgets. See https://ipywidgets.readthedocs.io/en/stable/user_install.html\n",
      "  from .autonotebook import tqdm as notebook_tqdm\n"
     ]
    }
   ],
   "source": [
    "embeddings = download_hugging_face_embeddings()"
   ]
  },
  {
   "cell_type": "code",
   "execution_count": 16,
   "id": "c1dc5563",
   "metadata": {},
   "outputs": [
    {
     "name": "stdout",
     "output_type": "stream",
     "text": [
      "legth 384\n"
     ]
    }
   ],
   "source": [
    "query_result = embeddings.embed_query(\"Hello World\")\n",
    "print(\"legth\" , len(query_result))"
   ]
  },
  {
   "cell_type": "code",
   "execution_count": 17,
   "id": "ffcc0887",
   "metadata": {},
   "outputs": [],
   "source": [
    "# query_result"
   ]
  },
  {
   "cell_type": "code",
   "execution_count": 18,
   "id": "4162319a",
   "metadata": {},
   "outputs": [
    {
     "data": {
      "text/plain": [
       "True"
      ]
     },
     "execution_count": 18,
     "metadata": {},
     "output_type": "execute_result"
    }
   ],
   "source": [
    "from dotenv import load_dotenv\n",
    "load_dotenv()"
   ]
  },
  {
   "cell_type": "code",
   "execution_count": 19,
   "id": "4f793347",
   "metadata": {},
   "outputs": [],
   "source": [
    "import os\n",
    "\n",
    "PINECONE_API_KEY = \"pcsk_tcVhe_UNxCvkWUa1d5fTpKNjqp5aq7FtRC62y44Ek3Rs53wJxN2WeborV6PaSm8vVd44S\"\n",
    "PINECONE_ENVIRONMENT = \"us-east-1\"\n",
    "\n",
    "os.environ[\"PINECONE_API_KEY\"] = PINECONE_API_KEY\n",
    "os.environ[\"PINECONE_ENVIRONMENT\"] = PINECONE_ENVIRONMENT\n"
   ]
  },
  {
   "cell_type": "code",
   "execution_count": 20,
   "id": "8dd5eb8f",
   "metadata": {},
   "outputs": [],
   "source": [
    "# PINE_CONE_API_KEY = os.environ.get('PINE_CONE_API_KEY')"
   ]
  },
  {
   "cell_type": "code",
   "execution_count": 21,
   "id": "bf719f54",
   "metadata": {},
   "outputs": [],
   "source": [
    "# PINE_CONE_API_KEY"
   ]
  },
  {
   "cell_type": "code",
   "execution_count": 22,
   "id": "20e3e946",
   "metadata": {},
   "outputs": [],
   "source": [
    "# from pinecone.grpc import PineconeGRPC as pinecone\n",
    "# from pinecone import ServerlessSpec\n",
    "\n",
    "# pc = pinecone(api_key= PINE_CONE_API_KEY)\n",
    "# index_name = \"medicalchatbot\"\n",
    "\n",
    "# pc.create_index(\n",
    "#     name= index_name,\n",
    "#     dimension= 384,\n",
    "#     metric=\"cosine\",\n",
    "#     spec=ServerlessSpec(\n",
    "#         cloud=\"aws\",\n",
    "#         region=\"us-east-1\"\n",
    "#     )\n",
    "# )"
   ]
  },
  {
   "cell_type": "code",
   "execution_count": 23,
   "id": "22eaf96b",
   "metadata": {},
   "outputs": [],
   "source": [
    "from pinecone.grpc import PineconeGRPC as pinecone\n",
    "from pinecone import ServerlessSpec\n",
    "\n",
    "pc = pinecone(api_key=PINECONE_API_KEY)\n",
    "\n",
    "index_name = \"medicalchatbot\"\n",
    "\n",
    "if index_name not in [i.name for i in pc.list_indexes()]:\n",
    "    pc.create_index(\n",
    "        name=index_name,\n",
    "        dimension=384,  # this must match your embedding output dim\n",
    "        metric=\"cosine\",\n",
    "        spec=ServerlessSpec(\n",
    "            cloud=\"aws\",\n",
    "            region=\"us-east-1\"\n",
    "        )\n",
    "    )\n"
   ]
  },
  {
   "cell_type": "code",
   "execution_count": 24,
   "id": "93cc2d5f",
   "metadata": {},
   "outputs": [],
   "source": [
    "# import os\n",
    "# os.environ[\"PINE_CONE_API_KEY\"] = PINE_CONE_API_KEY"
   ]
  },
  {
   "cell_type": "code",
   "execution_count": 25,
   "id": "552347a5",
   "metadata": {},
   "outputs": [],
   "source": [
    "# from langchain_pinecone import PineconeVectorStore\n",
    "\n",
    "# docsearch = PineconeVectorStore.from_documents(\n",
    "#     documents=text_chunks,\n",
    "#     index_name=index_name,\n",
    "#     embedding=embeddings,\n",
    "#     pinecone_api_key=PINE_CONE_API_KEY,\n",
    "#     pinecone_environment=\"us-east-1\"  # must match the one in ServerlessSpec\n",
    "# )\n"
   ]
  },
  {
   "cell_type": "code",
   "execution_count": null,
   "id": "ce5921f6",
   "metadata": {},
   "outputs": [],
   "source": [
    "from langchain_pinecone import PineconeVectorStore\n",
    "\n",
    "docsearch = PineconeVectorStore.from_documents(\n",
    "    documents=text_chunks,\n",
    "    embedding=embeddings,\n",
    "    index_name=index_name\n",
    ")\n"
   ]
  }
 ],
 "metadata": {
  "kernelspec": {
   "display_name": ".venv",
   "language": "python",
   "name": "python3"
  },
  "language_info": {
   "codemirror_mode": {
    "name": "ipython",
    "version": 3
   },
   "file_extension": ".py",
   "mimetype": "text/x-python",
   "name": "python",
   "nbconvert_exporter": "python",
   "pygments_lexer": "ipython3",
   "version": "3.13.3"
  }
 },
 "nbformat": 4,
 "nbformat_minor": 5
}
